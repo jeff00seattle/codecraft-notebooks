{
 "cells": [
  {
   "cell_type": "code",
   "execution_count": 1,
   "metadata": {},
   "outputs": [
    {
     "name": "stdout",
     "output_type": "stream",
     "text": [
      "check A\n",
      "walk A None\n",
      "values A ['B', 'C']\n",
      "next A B ['A']\n",
      "walk B ['A']\n",
      "check B\n",
      "walk B None\n",
      "check C\n",
      "walk C None\n",
      "values C ['A']\n",
      "next C A ['C']\n",
      "walk A ['C']\n",
      "values A ['B', 'C']\n",
      "next A B ['A', 'C']\n",
      "walk B ['A', 'C']\n",
      "check D\n",
      "walk D None\n",
      "values D ['D']\n",
      "next D D ['D']\n",
      "walk D ['D']\n",
      "values D ['D']\n",
      "found D ['D'] D\n",
      "Key D has circular\n"
     ]
    }
   ],
   "source": [
    "# Package: name, list of dependencies\n",
    "#\n",
    "# A -> B, C\n",
    "# B\n",
    "# C -> A\n",
    "\n",
    "foo = {\n",
    "    'A': ['B', 'C'],\n",
    "    'B': [],\n",
    "    'C': ['A'],\n",
    "    'D': ['D']\n",
    "}\n",
    "\n",
    "def walk(tree, stem_key, previous):\n",
    "    print(\"walk\", stem_key, previous)\n",
    "    \n",
    "    values = tree.get(stem_key, None)\n",
    "    if values is None or len(values) == 0:\n",
    "        return False\n",
    "    \n",
    "    print(\"values\", stem_key, values)\n",
    "    for v in values:\n",
    "        if previous is not None and v in previous:\n",
    "            print(\"found\", stem_key, previous, v)\n",
    "            return True\n",
    "        \n",
    "        if previous is None:\n",
    "            previous = []\n",
    "    \n",
    "        previous.append(stem_key)\n",
    "        previous = list(set(previous))\n",
    "        print(\"next\", stem_key, v, previous)\n",
    "        return walk(tree, v, previous)\n",
    "    \n",
    "\n",
    "for k, v in foo.items():\n",
    "    print(\"check\", k)\n",
    "    if walk(foo, k, None):\n",
    "        print(f\"Key {k} has circular\")"
   ]
  },
  {
   "cell_type": "code",
   "execution_count": null,
   "metadata": {
    "collapsed": true
   },
   "outputs": [],
   "source": []
  }
 ],
 "metadata": {
  "kernelspec": {
   "display_name": "Python 3",
   "language": "python",
   "name": "python3"
  },
  "language_info": {
   "codemirror_mode": {
    "name": "ipython",
    "version": 3
   },
   "file_extension": ".py",
   "mimetype": "text/x-python",
   "name": "python",
   "nbconvert_exporter": "python",
   "pygments_lexer": "ipython3",
   "version": "3.6.1"
  }
 },
 "nbformat": 4,
 "nbformat_minor": 2
}
