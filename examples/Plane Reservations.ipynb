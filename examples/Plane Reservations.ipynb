{
 "cells": [
  {
   "cell_type": "code",
   "execution_count": 1,
   "metadata": {
    "collapsed": true
   },
   "outputs": [],
   "source": [
    "PLANE_ROW = [0, 0, 0, 2, 0, 0, 0, 0, 2, 0, 0, 0]"
   ]
  },
  {
   "cell_type": "code",
   "execution_count": 2,
   "metadata": {
    "collapsed": true
   },
   "outputs": [],
   "source": [
    "PLANE_SEAT = {\n",
    "        'A': 0,\n",
    "        'B': 1, \n",
    "        'C': 2,\n",
    "        \n",
    "        'D': 4,\n",
    "        'E': 5, \n",
    "        'F': 6, \n",
    "        'G': 7, \n",
    "        \n",
    "        'H': 9,\n",
    "        'J': 10,\n",
    "        'K': 11,\n",
    "    }"
   ]
  },
  {
   "cell_type": "code",
   "execution_count": 3,
   "metadata": {
    "collapsed": true
   },
   "outputs": [],
   "source": [
    "def plane_seats(N):\n",
    "    return PLANE_ROW * N"
   ]
  },
  {
   "cell_type": "code",
   "execution_count": 4,
   "metadata": {
    "collapsed": true
   },
   "outputs": [],
   "source": [
    "def parse_reservations(S):\n",
    "    return [[int(res[:-1]) - 1, PLANE_SEAT.get(res[-1:])] for res in S.split(\" \")]"
   ]
  },
  {
   "cell_type": "code",
   "execution_count": 5,
   "metadata": {
    "collapsed": true
   },
   "outputs": [],
   "source": [
    "def reserve_seats(N, S):\n",
    "    unreserved_seats = plane_seats(N)\n",
    "    reserved_seats = unreserved_seats[:]\n",
    "    if len(S) > 0:\n",
    "        for row, seat in parse_reservations(S):\n",
    "            reserved_seats[(row * len(PLANE_ROW)) + seat] = 1\n",
    "        \n",
    "    return reserved_seats"
   ]
  },
  {
   "cell_type": "code",
   "execution_count": 27,
   "metadata": {
    "collapsed": true
   },
   "outputs": [],
   "source": [
    "def find_max_group(reserved_seats, k):\n",
    "    n = len(reserved_seats)\n",
    "    count_groups = 0\n",
    "    i = -1\n",
    "    while i < n:\n",
    "        i += 1\n",
    "        if (i + k) > n:\n",
    "            break\n",
    "        \n",
    "        if reserved_seats[i] != 0:\n",
    "            continue\n",
    "            \n",
    "        found = True\n",
    "        kp = i + k - 1\n",
    "        while i < kp:\n",
    "            i += 1\n",
    "            if reserved_seats[i] != 0:\n",
    "                found = False\n",
    "                break\n",
    "        \n",
    "        if found:\n",
    "            count_groups += 1\n",
    "\n",
    "    return count_groups\n",
    "    "
   ]
  },
  {
   "cell_type": "code",
   "execution_count": 28,
   "metadata": {
    "collapsed": true
   },
   "outputs": [],
   "source": [
    "def solution(N, S):\n",
    "    reserved_seats = reserve_seats(N, S)\n",
    "    print(reserved_seats)\n",
    "    return find_max_group(reserved_seats, 3)"
   ]
  },
  {
   "cell_type": "code",
   "execution_count": 29,
   "metadata": {},
   "outputs": [
    {
     "name": "stdout",
     "output_type": "stream",
     "text": [
      "[0, 0, 0, 2, 0, 0, 0, 0, 2, 0, 0, 0]\n",
      "3\n"
     ]
    }
   ],
   "source": [
    "N = 1\n",
    "S = \"\"\n",
    "print(solution(N, S))"
   ]
  },
  {
   "cell_type": "code",
   "execution_count": 30,
   "metadata": {},
   "outputs": [
    {
     "name": "stdout",
     "output_type": "stream",
     "text": [
      "[0, 0, 0, 2, 0, 0, 1, 1, 2, 0, 0, 0, 1, 0, 0, 2, 0, 1, 0, 0, 2, 0, 0, 0]\n",
      "3\n"
     ]
    }
   ],
   "source": [
    "N = 2\n",
    "S = \"1F 2A 1G 2E\"\n",
    "print(solution(N, S))"
   ]
  },
  {
   "cell_type": "code",
   "execution_count": 31,
   "metadata": {},
   "outputs": [
    {
     "name": "stdout",
     "output_type": "stream",
     "text": [
      "[0, 0, 0, 2, 0, 0, 1, 1, 2, 0, 0, 0, 1, 0, 0, 2, 0, 1, 0, 0, 2, 0, 0, 0, 0, 0, 0, 2, 0, 0, 0, 0, 2, 0, 0, 0]\n",
      "6\n"
     ]
    }
   ],
   "source": [
    "N = 3\n",
    "S = \"1F 2A 1G 2E\"\n",
    "print(solution(N, S))"
   ]
  },
  {
   "cell_type": "code",
   "execution_count": 32,
   "metadata": {},
   "outputs": [
    {
     "name": "stdout",
     "output_type": "stream",
     "text": [
      "[0, 0, 0, 2, 0, 0, 1, 1, 2, 0, 0, 0, 1, 0, 0, 2, 0, 1, 0, 0, 2, 0, 0, 0, 0, 0, 0, 2, 1, 0, 1, 0, 2, 0, 0, 0]\n",
      "5\n"
     ]
    }
   ],
   "source": [
    "N = 3\n",
    "S = \"1F 2A 1G 2E 3D 3F\"\n",
    "print(solution(N, S))"
   ]
  },
  {
   "cell_type": "code",
   "execution_count": null,
   "metadata": {
    "collapsed": true
   },
   "outputs": [],
   "source": []
  }
 ],
 "metadata": {
  "kernelspec": {
   "display_name": "Python 3",
   "language": "python",
   "name": "python3"
  },
  "language_info": {
   "codemirror_mode": {
    "name": "ipython",
    "version": 3
   },
   "file_extension": ".py",
   "mimetype": "text/x-python",
   "name": "python",
   "nbconvert_exporter": "python",
   "pygments_lexer": "ipython3",
   "version": "3.6.1"
  }
 },
 "nbformat": 4,
 "nbformat_minor": 2
}
