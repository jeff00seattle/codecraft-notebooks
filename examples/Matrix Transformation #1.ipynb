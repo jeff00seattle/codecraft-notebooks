{
 "cells": [
  {
   "cell_type": "markdown",
   "metadata": {},
   "source": [
    "Requirements:\n",
    "1. Write a method or function in your programming language of choice.  \n",
    "1. It MUST accept a two-dimensional matrix of characters and a \"search\" character.\n",
    "1. Wherever the \"search\" character is found, the entire row and column MUST be replaced with that character.\n",
    "1. Method/function MUST transform its input, not return a new matrix.\n",
    "1. Method/function MUST NOT produce any other output (e.g. returns, printing to STDOUT)\n",
    "1. Method/function SHOULD strive for optimal performance.  There is a solution with O(n*m) run time and O(C) additional memory, assuming a rectangular matrix with n rows and m columns.\n",
    "1. You MUST NOT use an IDE to write your code.  Please stick to using a text editor.\n",
    "\n",
    " Sample input matrix:\n",
    " ```\n",
    " A M X C V\n",
    " B R C K N\n",
    " F J L O P\n",
    " D S K Z Q\n",
    " ```\n",
    "\n",
    " Input matrix after transformation (searching for 'C'):\n",
    " ```\n",
    " C C C C C\n",
    " C C C C C\n",
    " F J C C P\n",
    " D S C C Q\n",
    " ```"
   ]
  },
  {
   "cell_type": "code",
   "execution_count": 73,
   "metadata": {
    "collapsed": true
   },
   "outputs": [],
   "source": [
    "# Generate Randomly filled Matrix with UpperCase ASCII Characters\n",
    "\n",
    "import random\n",
    "import string\n",
    "\n",
    "matrix = [[random.choice(string.ascii_uppercase) for _ in range(random.randint(5, 10))] for _ in range(random.randint(5, 10))]"
   ]
  },
  {
   "cell_type": "code",
   "execution_count": 74,
   "metadata": {},
   "outputs": [
    {
     "name": "stdout",
     "output_type": "stream",
     "text": [
      "[['I', 'P', 'I', 'J', 'N', 'U', 'W', 'K'], ['T', 'X', 'W', 'V', 'S'], ['Y', 'R', 'Q', 'H', 'W', 'P', 'Q', 'D'], ['N', 'F', 'M', 'Z', 'V', 'Q', 'Q'], ['U', 'B', 'X', 'F', 'H', 'L', 'L', 'J', 'X', 'V'], ['T', 'P', 'X', 'O', 'V', 'Y', 'Z', 'P', 'H', 'G'], ['O', 'M', 'H', 'A', 'T', 'Q', 'F', 'R'], ['Q', 'L', 'R', 'C', 'B', 'K', 'E', 'U', 'G'], ['P', 'B', 'B', 'L', 'D', 'J', 'C', 'I']]\n"
     ]
    }
   ],
   "source": [
    "print(matrix)"
   ]
  },
  {
   "cell_type": "code",
   "execution_count": 76,
   "metadata": {},
   "outputs": [
    {
     "data": {
      "text/html": [
       "<div>\n",
       "<style scoped>\n",
       "    .dataframe tbody tr th:only-of-type {\n",
       "        vertical-align: middle;\n",
       "    }\n",
       "\n",
       "    .dataframe tbody tr th {\n",
       "        vertical-align: top;\n",
       "    }\n",
       "\n",
       "    .dataframe thead th {\n",
       "        text-align: right;\n",
       "    }\n",
       "</style>\n",
       "<table border=\"1\" class=\"dataframe\">\n",
       "  <thead>\n",
       "    <tr style=\"text-align: right;\">\n",
       "      <th></th>\n",
       "      <th>0</th>\n",
       "      <th>1</th>\n",
       "      <th>2</th>\n",
       "      <th>3</th>\n",
       "      <th>4</th>\n",
       "      <th>5</th>\n",
       "      <th>6</th>\n",
       "      <th>7</th>\n",
       "      <th>8</th>\n",
       "      <th>9</th>\n",
       "    </tr>\n",
       "  </thead>\n",
       "  <tbody>\n",
       "    <tr>\n",
       "      <th>0</th>\n",
       "      <td>I</td>\n",
       "      <td>P</td>\n",
       "      <td>I</td>\n",
       "      <td>J</td>\n",
       "      <td>N</td>\n",
       "      <td>U</td>\n",
       "      <td>W</td>\n",
       "      <td>K</td>\n",
       "      <td>None</td>\n",
       "      <td>None</td>\n",
       "    </tr>\n",
       "    <tr>\n",
       "      <th>1</th>\n",
       "      <td>T</td>\n",
       "      <td>X</td>\n",
       "      <td>W</td>\n",
       "      <td>V</td>\n",
       "      <td>S</td>\n",
       "      <td>None</td>\n",
       "      <td>None</td>\n",
       "      <td>None</td>\n",
       "      <td>None</td>\n",
       "      <td>None</td>\n",
       "    </tr>\n",
       "    <tr>\n",
       "      <th>2</th>\n",
       "      <td>Y</td>\n",
       "      <td>R</td>\n",
       "      <td>Q</td>\n",
       "      <td>H</td>\n",
       "      <td>W</td>\n",
       "      <td>P</td>\n",
       "      <td>Q</td>\n",
       "      <td>D</td>\n",
       "      <td>None</td>\n",
       "      <td>None</td>\n",
       "    </tr>\n",
       "    <tr>\n",
       "      <th>3</th>\n",
       "      <td>N</td>\n",
       "      <td>F</td>\n",
       "      <td>M</td>\n",
       "      <td>Z</td>\n",
       "      <td>V</td>\n",
       "      <td>Q</td>\n",
       "      <td>Q</td>\n",
       "      <td>None</td>\n",
       "      <td>None</td>\n",
       "      <td>None</td>\n",
       "    </tr>\n",
       "    <tr>\n",
       "      <th>4</th>\n",
       "      <td>U</td>\n",
       "      <td>B</td>\n",
       "      <td>X</td>\n",
       "      <td>F</td>\n",
       "      <td>H</td>\n",
       "      <td>L</td>\n",
       "      <td>L</td>\n",
       "      <td>J</td>\n",
       "      <td>X</td>\n",
       "      <td>V</td>\n",
       "    </tr>\n",
       "    <tr>\n",
       "      <th>5</th>\n",
       "      <td>T</td>\n",
       "      <td>P</td>\n",
       "      <td>X</td>\n",
       "      <td>O</td>\n",
       "      <td>V</td>\n",
       "      <td>Y</td>\n",
       "      <td>Z</td>\n",
       "      <td>P</td>\n",
       "      <td>H</td>\n",
       "      <td>G</td>\n",
       "    </tr>\n",
       "    <tr>\n",
       "      <th>6</th>\n",
       "      <td>O</td>\n",
       "      <td>M</td>\n",
       "      <td>H</td>\n",
       "      <td>A</td>\n",
       "      <td>T</td>\n",
       "      <td>Q</td>\n",
       "      <td>F</td>\n",
       "      <td>R</td>\n",
       "      <td>None</td>\n",
       "      <td>None</td>\n",
       "    </tr>\n",
       "    <tr>\n",
       "      <th>7</th>\n",
       "      <td>Q</td>\n",
       "      <td>L</td>\n",
       "      <td>R</td>\n",
       "      <td>C</td>\n",
       "      <td>B</td>\n",
       "      <td>K</td>\n",
       "      <td>E</td>\n",
       "      <td>U</td>\n",
       "      <td>G</td>\n",
       "      <td>None</td>\n",
       "    </tr>\n",
       "    <tr>\n",
       "      <th>8</th>\n",
       "      <td>P</td>\n",
       "      <td>B</td>\n",
       "      <td>B</td>\n",
       "      <td>L</td>\n",
       "      <td>D</td>\n",
       "      <td>J</td>\n",
       "      <td>C</td>\n",
       "      <td>I</td>\n",
       "      <td>None</td>\n",
       "      <td>None</td>\n",
       "    </tr>\n",
       "  </tbody>\n",
       "</table>\n",
       "</div>"
      ],
      "text/plain": [
       "   0  1  2  3  4     5     6     7     8     9\n",
       "0  I  P  I  J  N     U     W     K  None  None\n",
       "1  T  X  W  V  S  None  None  None  None  None\n",
       "2  Y  R  Q  H  W     P     Q     D  None  None\n",
       "3  N  F  M  Z  V     Q     Q  None  None  None\n",
       "4  U  B  X  F  H     L     L     J     X     V\n",
       "5  T  P  X  O  V     Y     Z     P     H     G\n",
       "6  O  M  H  A  T     Q     F     R  None  None\n",
       "7  Q  L  R  C  B     K     E     U     G  None\n",
       "8  P  B  B  L  D     J     C     I  None  None"
      ]
     },
     "execution_count": 76,
     "metadata": {},
     "output_type": "execute_result"
    }
   ],
   "source": [
    "# Pretty Print contents of randomly filled Matrix using Python Pandas\n",
    "\n",
    "from pandas import *\n",
    "DataFrame(matrix)"
   ]
  },
  {
   "cell_type": "code",
   "execution_count": 77,
   "metadata": {},
   "outputs": [
    {
     "name": "stdout",
     "output_type": "stream",
     "text": [
      "0 : ['I', 'P', 'I', 'J', 'N', 'U', 'W', 'K']\n",
      "1 : ['T', 'X', 'W', 'V', 'S']\n",
      "2 : ['Y', 'R', 'Q', 'H', 'W', 'P', 'Q', 'D']\n",
      "3 : ['N', 'F', 'M', 'Z', 'V', 'Q', 'Q']\n",
      "4 : ['U', 'B', 'X', 'F', 'H', 'L', 'L', 'J', 'X', 'V']\n",
      "5 : ['T', 'P', 'X', 'O', 'V', 'Y', 'Z', 'P', 'H', 'G']\n",
      "6 : ['O', 'M', 'H', 'A', 'T', 'Q', 'F', 'R']\n",
      "7 : ['Q', 'L', 'R', 'C', 'B', 'K', 'E', 'U', 'G']\n",
      "8 : ['P', 'B', 'B', 'L', 'D', 'J', 'C', 'I']\n"
     ]
    }
   ],
   "source": [
    "for i_row, v_row in enumerate(matrix):\n",
    "        print(i_row, ':', v_row)"
   ]
  },
  {
   "cell_type": "code",
   "execution_count": 68,
   "metadata": {},
   "outputs": [
    {
     "name": "stdout",
     "output_type": "stream",
     "text": [
      "rows:     9 : [True, False, False, False, False, True, False, True, True]\n",
      "columns:  10 : [True, False, True, False, True, True, False, True]\n"
     ]
    }
   ],
   "source": [
    "TARGET = 'U'\n",
    "numrows_max = len(matrix)    # Number rows in matrix\n",
    "numcols_max = len(matrix[0]) # Number columns in first row of matrix\n",
    "\n",
    "rows = [False for i in range(numrows_max)]\n",
    "columns = [False for i in range(numcols)]\n",
    "\n",
    "for i_row, v_row in enumerate(matrix):\n",
    "    for i_column, v_column in enumerate(v_row):\n",
    "        if TARGET == v_column:\n",
    "            rows[i_row] = True\n",
    "            numcols = len(v_row)\n",
    "            # print(f\"{numcols_max}:{numcols}:{i_column}\")\n",
    "            if numcols_max < numcols:\n",
    "                extend_numcols = numcols - numcols_max\n",
    "                numcols_max = numcols\n",
    "                extend_columns = [False for i in range(extend_numcols)]\n",
    "                columns.extend(extend_columns)\n",
    "                print(len(columns))\n",
    "            columns[i_column] = True\n",
    "            \n",
    "print(\"rows:    \", numrows_max, ':', rows)         \n",
    "print(\"columns: \", numcols_max, ':', columns)"
   ]
  },
  {
   "cell_type": "code",
   "execution_count": 69,
   "metadata": {},
   "outputs": [
    {
     "name": "stdout",
     "output_type": "stream",
     "text": [
      "0 : ['U', 'U', 'U', 'U', 'U', 'U', 'U', 'U', 'U', 'U']\n",
      "1 : ['U', 'D', 'U', 'M', 'U', 'U', 'Z']\n",
      "2 : ['U', 'B', 'U', 'L', 'U']\n",
      "3 : ['U', 'B', 'U', 'M', 'U']\n",
      "4 : ['U', 'N', 'U', 'X', 'U', 'U', 'L']\n",
      "5 : ['U', 'U', 'U', 'U', 'U', 'U', 'U', 'U', 'U', 'U']\n",
      "6 : ['U', 'S', 'U', 'E', 'U', 'U', 'E']\n",
      "7 : ['U', 'U', 'U', 'U', 'U', 'U']\n",
      "8 : ['U', 'U', 'U', 'U', 'U', 'U', 'U', 'U']\n"
     ]
    }
   ],
   "source": [
    "import copy\n",
    "matrix_copy = copy.copy(matrix)\n",
    "\n",
    "for i_row, v_row in enumerate(matrix_copy):\n",
    "    for i_column, v_column in enumerate(v_row):\n",
    "        if rows[i_row] or columns[i_column]:\n",
    "            matrix_copy[i_row][i_column] = TARGET\n",
    "            \n",
    "for i_row, v_row in enumerate(matrix_copy):\n",
    "    print(i_row, ':', v_row) "
   ]
  },
  {
   "cell_type": "code",
   "execution_count": null,
   "metadata": {
    "collapsed": true
   },
   "outputs": [],
   "source": []
  }
 ],
 "metadata": {
  "kernelspec": {
   "display_name": "Python 3",
   "language": "python",
   "name": "python3"
  },
  "language_info": {
   "codemirror_mode": {
    "name": "ipython",
    "version": 3
   },
   "file_extension": ".py",
   "mimetype": "text/x-python",
   "name": "python",
   "nbconvert_exporter": "python",
   "pygments_lexer": "ipython3",
   "version": "3.6.1"
  }
 },
 "nbformat": 4,
 "nbformat_minor": 2
}
