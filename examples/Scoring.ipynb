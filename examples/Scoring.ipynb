{
 "cells": [
  {
   "cell_type": "code",
   "execution_count": 25,
   "metadata": {},
   "outputs": [],
   "source": []
  },
  {
   "cell_type": "code",
   "execution_count": 26,
   "metadata": {},
   "outputs": [
    {
     "name": "stdout",
     "output_type": "stream",
     "text": [
      "alice: [67, 27, 75, 95, 15, 59]\n",
      "bob: [82, 72, 89, 39, 52, 31]\n"
     ]
    }
   ],
   "source": [
    "print(f\"alice: {a}\")\n",
    "print(f\"bob: {b}\")"
   ]
  },
  {
   "cell_type": "code",
   "execution_count": 51,
   "metadata": {},
   "outputs": [],
   "source": [
    "a_score = 0\n",
    "b_score = 0\n",
    "\n",
    "def score(ai, bi):\n",
    "    global a_score, b_score\n",
    "    if ai > bi:\n",
    "        a_score += 1\n",
    "    elif ai < bi:\n",
    "        b_score += 1\n",
    "\n",
    "def solve(a, b):\n",
    "    assert len(a) == len(b)\n",
    "    global a_score, b_score\n",
    "    \n",
    "    a_score = 0\n",
    "    b_score = 0\n",
    "\n",
    "    [score(ai, bi) for ai, bi in zip(a, b)]\n",
    "    \n",
    "    print(a_score, b_score)"
   ]
  },
  {
   "cell_type": "code",
   "execution_count": 62,
   "metadata": {},
   "outputs": [
    {
     "name": "stdout",
     "output_type": "stream",
     "text": [
      "alice: 11 47 85 81 37 73\n",
      "bob: 15 23 34 97 56 94\n",
      "2 4\n"
     ]
    }
   ],
   "source": [
    "import random\n",
    "\n",
    "a = random.sample(range(0, 100), 6)\n",
    "b = random.sample(range(0, 100), 6)\n",
    "\n",
    "print(f'alice: {\" \".join([str(x) for x in a])}')\n",
    "print(f'bob: {\" \".join([str(x) for x in b])}')\n",
    "\n",
    "solve(a, b)"
   ]
  },
  {
   "cell_type": "code",
   "execution_count": 63,
   "metadata": {},
   "outputs": [
    {
     "name": "stdout",
     "output_type": "stream",
     "text": [
      "alice: [37, 16, 1, 89, 49, 42]\n",
      "bob: [8, 97, 94, 22, 18, 13]\n",
      "4 2\n"
     ]
    }
   ],
   "source": [
    "import random\n",
    "\n",
    "a = random.sample(range(0, 100), 6)\n",
    "b = random.sample(range(0, 100), 6)\n",
    "\n",
    "print(f\"alice: {a}\")\n",
    "print(f\"bob: {b}\")\n",
    "\n",
    "solve(a, b)"
   ]
  },
  {
   "cell_type": "code",
   "execution_count": 64,
   "metadata": {},
   "outputs": [
    {
     "name": "stdout",
     "output_type": "stream",
     "text": [
      "alice: [83, 29, 13, 73, 97, 38]\n",
      "bob: [51, 40, 8, 91, 49, 0]\n",
      "4 2\n"
     ]
    }
   ],
   "source": [
    "import random\n",
    "\n",
    "a = random.sample(range(0, 100), 6)\n",
    "b = random.sample(range(0, 100), 6)\n",
    "\n",
    "print(f\"alice: {a}\")\n",
    "print(f\"bob: {b}\")\n",
    "\n",
    "solve(a, b)"
   ]
  },
  {
   "cell_type": "code",
   "execution_count": 65,
   "metadata": {},
   "outputs": [
    {
     "name": "stdout",
     "output_type": "stream",
     "text": [
      "alice: [53, 68, 11, 34, 92, 5]\n",
      "bob: [77, 89, 99, 78, 61, 81]\n",
      "1 5\n"
     ]
    }
   ],
   "source": [
    "import random\n",
    "\n",
    "a = random.sample(range(0, 100), 6)\n",
    "b = random.sample(range(0, 100), 6)\n",
    "\n",
    "print(f\"alice: {a}\")\n",
    "print(f\"bob: {b}\")\n",
    "\n",
    "solve(a, b)"
   ]
  }
 ],
 "metadata": {
  "kernelspec": {
   "display_name": "Python 3",
   "language": "python",
   "name": "python3"
  },
  "language_info": {
   "codemirror_mode": {
    "name": "ipython",
    "version": 3
   },
   "file_extension": ".py",
   "mimetype": "text/x-python",
   "name": "python",
   "nbconvert_exporter": "python",
   "pygments_lexer": "ipython3",
   "version": "3.6.1"
  }
 },
 "nbformat": 4,
 "nbformat_minor": 2
}
