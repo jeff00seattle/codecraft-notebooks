{
 "cells": [
  {
   "cell_type": "markdown",
   "metadata": {},
   "source": [
    "Find longest sequence of zeros in binary representation of an integer."
   ]
  },
  {
   "cell_type": "markdown",
   "metadata": {},
   "source": [
    "**Complexity:**\n",
    "\n",
    "expected worst-case time complexity is `O(log(N))`;\n",
    "\n",
    "expected worst-case space complexity is `O(1)`\n",
    "\n",
    "**Execution:**\n",
    "The solution is straight-forward! Use of binary shift."
   ]
  },
  {
   "cell_type": "code",
   "execution_count": 12,
   "metadata": {
    "collapsed": true
   },
   "outputs": [],
   "source": [
    "def solution(N):\n",
    "    print(format(N, 'b'))\n",
    "    print(format(N, 'b').strip('0'))\n",
    "    print(format(N, 'b').strip('0').split('1'))\n",
    "    return len(max(format(N, 'b').strip('0').split('1')))"
   ]
  },
  {
   "cell_type": "code",
   "execution_count": 13,
   "metadata": {},
   "outputs": [
    {
     "name": "stdout",
     "output_type": "stream",
     "text": [
      "11001000\n",
      "11001\n",
      "['', '', '00', '']\n",
      "2\n"
     ]
    }
   ],
   "source": [
    "N = 200\n",
    "print(solution(N))"
   ]
  },
  {
   "cell_type": "code",
   "execution_count": 18,
   "metadata": {
    "collapsed": true
   },
   "outputs": [],
   "source": [
    "def solution(N):\n",
    "    print(format(N, 'b'))\n",
    "    return len(max(format(N, 'b').split('1')))"
   ]
  },
  {
   "cell_type": "code",
   "execution_count": 19,
   "metadata": {},
   "outputs": [
    {
     "name": "stdout",
     "output_type": "stream",
     "text": [
      "11001000\n",
      "3\n"
     ]
    }
   ],
   "source": [
    "N = 200\n",
    "print(solution(N))"
   ]
  },
  {
   "cell_type": "code",
   "execution_count": 20,
   "metadata": {},
   "outputs": [
    {
     "name": "stdout",
     "output_type": "stream",
     "text": [
      "11111010000\n",
      "4\n"
     ]
    }
   ],
   "source": [
    "N = 2000\n",
    "print(solution(N))"
   ]
  },
  {
   "cell_type": "code",
   "execution_count": 21,
   "metadata": {},
   "outputs": [
    {
     "name": "stdout",
     "output_type": "stream",
     "text": [
      "100111000100000\n",
      "5\n"
     ]
    }
   ],
   "source": [
    "N = 20000\n",
    "print(solution(N))"
   ]
  },
  {
   "cell_type": "code",
   "execution_count": 22,
   "metadata": {},
   "outputs": [
    {
     "name": "stdout",
     "output_type": "stream",
     "text": [
      "10011100010000000\n",
      "7\n"
     ]
    }
   ],
   "source": [
    "N = 80000\n",
    "print(solution(N))"
   ]
  },
  {
   "cell_type": "code",
   "execution_count": 23,
   "metadata": {},
   "outputs": [
    {
     "name": "stdout",
     "output_type": "stream",
     "text": [
      "101111000110000101001110\n",
      "4\n"
     ]
    }
   ],
   "source": [
    "N = 12345678\n",
    "print(solution(N))"
   ]
  },
  {
   "cell_type": "code",
   "execution_count": 37,
   "metadata": {},
   "outputs": [
    {
     "name": "stdout",
     "output_type": "stream",
     "text": [
      "101010010110110000001101010100\n",
      "6\n"
     ]
    }
   ],
   "source": [
    "N = 710607700\n",
    "print(solution(N))"
   ]
  },
  {
   "cell_type": "code",
   "execution_count": 38,
   "metadata": {},
   "outputs": [
    {
     "name": "stdout",
     "output_type": "stream",
     "text": [
      "101\n",
      "1\n"
     ]
    }
   ],
   "source": [
    "N = 5\n",
    "print(solution(N))"
   ]
  },
  {
   "cell_type": "code",
   "execution_count": null,
   "metadata": {
    "collapsed": true
   },
   "outputs": [],
   "source": []
  }
 ],
 "metadata": {
  "kernelspec": {
   "display_name": "Python 3",
   "language": "python",
   "name": "python3"
  },
  "language_info": {
   "codemirror_mode": {
    "name": "ipython",
    "version": 3
   },
   "file_extension": ".py",
   "mimetype": "text/x-python",
   "name": "python",
   "nbconvert_exporter": "python",
   "pygments_lexer": "ipython3",
   "version": "3.6.1"
  }
 },
 "nbformat": 4,
 "nbformat_minor": 2
}
