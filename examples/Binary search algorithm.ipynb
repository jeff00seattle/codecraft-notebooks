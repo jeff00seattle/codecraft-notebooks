{
 "cells": [
  {
   "cell_type": "markdown",
   "metadata": {},
   "source": [
    "The binary search is a simple and very useful algorithm whereby many linear algorithms can\n",
    "be optimized to run in logarithmic time."
   ]
  },
  {
   "cell_type": "markdown",
   "metadata": {},
   "source": [
    "###  Binary search in O(log n)"
   ]
  },
  {
   "cell_type": "code",
   "execution_count": 45,
   "metadata": {
    "collapsed": true
   },
   "outputs": [],
   "source": [
    "def binary_search(A, x):\n",
    "    first = 0\n",
    "    last = len(A) - 1\n",
    "    found = False\n",
    "    index = -1\n",
    "    \n",
    "    while first<=last and not found:\n",
    "        midpoint = (first + last) // 2\n",
    "        if A[midpoint] == x:\n",
    "            found = True\n",
    "            index = midpoint\n",
    "        else:\n",
    "            if x < A[midpoint]:\n",
    "                last = midpoint - 1\n",
    "            else:\n",
    "                first = midpoint + 1\n",
    "\n",
    "    return found, index"
   ]
  },
  {
   "cell_type": "code",
   "execution_count": 48,
   "metadata": {},
   "outputs": [
    {
     "name": "stdout",
     "output_type": "stream",
     "text": [
      "[1, 5, 9, 9, 10, 11, 12, 13, 14, 17]\n"
     ]
    },
    {
     "data": {
      "text/plain": [
       "(True, 7)"
      ]
     },
     "execution_count": 48,
     "metadata": {},
     "output_type": "execute_result"
    }
   ],
   "source": [
    "import random\n",
    "A = sorted([random.randint(1, 20) for _ in range(10)])\n",
    "print(A)\n",
    "binary_search(A, 13)"
   ]
  },
  {
   "cell_type": "code",
   "execution_count": 47,
   "metadata": {},
   "outputs": [
    {
     "name": "stdout",
     "output_type": "stream",
     "text": [
      "[5, 8, 8, 10, 10, 11, 15, 19, 20, 20]\n"
     ]
    },
    {
     "data": {
      "text/plain": [
       "(False, -1)"
      ]
     },
     "execution_count": 47,
     "metadata": {},
     "output_type": "execute_result"
    }
   ],
   "source": [
    "import random\n",
    "A = sorted([random.randint(1, 20) for _ in range(10)])\n",
    "print(A)\n",
    "binary_search(A, 13)"
   ]
  },
  {
   "cell_type": "code",
   "execution_count": 49,
   "metadata": {},
   "outputs": [
    {
     "name": "stdout",
     "output_type": "stream",
     "text": [
      "[4, 4, 5, 8, 8, 9, 10, 11, 13, 19]\n"
     ]
    },
    {
     "data": {
      "text/plain": [
       "(True, 8)"
      ]
     },
     "execution_count": 49,
     "metadata": {},
     "output_type": "execute_result"
    }
   ],
   "source": [
    "import random\n",
    "A = sorted([random.randint(1, 20) for _ in range(10)])\n",
    "print(A)\n",
    "binary_search(A, 13)"
   ]
  },
  {
   "cell_type": "markdown",
   "metadata": {},
   "source": [
    "**Problem:** You are given n binary values x0, x1, . . . , xn−1, such that xi ∈ {0, 1}. This array\n",
    "represents holes in a roof (1 is a hole). You are also given k boards of the same size. The goal\n",
    "is to choose the optimal (minimal) size of the boards that allows all the holes to be covered\n",
    "by boards."
   ]
  },
  {
   "cell_type": "code",
   "execution_count": 50,
   "metadata": {
    "collapsed": true
   },
   "outputs": [],
   "source": [
    "def boards(A, k):\n",
    "    n = len(A)\n",
    "    beg = 1\n",
    "    end = n\n",
    "    result = -1\n",
    "    while (beg <= end):\n",
    "        mid = (beg + end) // 2\n",
    "        if (check(A, mid) <= k):\n",
    "            end = mid - 1\n",
    "            result = mid\n",
    "        else:\n",
    "            beg = mid + 1\n",
    "    return result\n",
    "\n",
    "def check(A, k):\n",
    "    n = len(A)\n",
    "    boards = 0\n",
    "    last = -1\n",
    "    for i in range(n):\n",
    "        if A[i] == 1 and last < i:\n",
    "            boards += 1\n",
    "            last = i + k - 1\n",
    "    return boards"
   ]
  },
  {
   "cell_type": "code",
   "execution_count": 51,
   "metadata": {},
   "outputs": [
    {
     "name": "stdout",
     "output_type": "stream",
     "text": [
      "[1, 1, 1, 1, 0, 1, 1, 1, 1, 0, 1, 1, 0, 0, 1, 0, 1, 0, 0, 1]\n"
     ]
    },
    {
     "data": {
      "text/plain": [
       "6"
      ]
     },
     "execution_count": 51,
     "metadata": {},
     "output_type": "execute_result"
    }
   ],
   "source": [
    "import random\n",
    "A = [random.randint(0, 1) for _ in range(20)]\n",
    "print(A)\n",
    "boards(A, 3)"
   ]
  },
  {
   "cell_type": "code",
   "execution_count": null,
   "metadata": {
    "collapsed": true
   },
   "outputs": [],
   "source": []
  }
 ],
 "metadata": {
  "kernelspec": {
   "display_name": "Python 3",
   "language": "python",
   "name": "python3"
  },
  "language_info": {
   "codemirror_mode": {
    "name": "ipython",
    "version": 3
   },
   "file_extension": ".py",
   "mimetype": "text/x-python",
   "name": "python",
   "nbconvert_exporter": "python",
   "pygments_lexer": "ipython3",
   "version": "3.6.1"
  }
 },
 "nbformat": 4,
 "nbformat_minor": 2
}
