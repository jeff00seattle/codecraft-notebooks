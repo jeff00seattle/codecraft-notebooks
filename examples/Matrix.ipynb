{
 "cells": [
  {
   "cell_type": "markdown",
   "metadata": {},
   "source": [
    "Requirements:\n",
    "1. Write a method or function in your programming language of choice.  \n",
    "1. It MUST accept a two-dimensional matrix of characters and a \"search\" character.\n",
    "1. Wherever the \"search\" character is found, the entire row and column MUST be replaced with that character.\n",
    "1. Method/function MUST transform its input, not return a new matrix.\n",
    "1. Method/function MUST NOT produce any other output (e.g. returns, printing to STDOUT)\n",
    "1. Method/function SHOULD strive for optimal performance.  There is a solution with O(n*m) run time and O(C) additional memory, assuming a rectangular matrix with n rows and m columns.\n",
    "1. You MUST NOT use an IDE to write your code.  Please stick to using a text editor.\n",
    "\n",
    " Sample input matrix:\n",
    " ```\n",
    " A M X C V\n",
    " B R C K N\n",
    " F J L O P\n",
    " D S K Z Q\n",
    " ```\n",
    "\n",
    " Input matrix after transformation (searching for 'C'):\n",
    " ```\n",
    " C C C C C\n",
    " C C C C C\n",
    " F J C C P\n",
    " D S C C Q\n",
    " ```"
   ]
  },
  {
   "cell_type": "code",
   "execution_count": null,
   "metadata": {
    "collapsed": true
   },
   "outputs": [],
   "source": [
    "\n",
    "\n",
    "match = 'C'\n",
    "for iR, row in matrix.items():\n",
    "  for iC, vC in row.items():\n",
    "    if 'C' == vC:\n",
    "      rows[iR] = 1\n",
    "      columns[iC] = 1\n",
    "      \n",
    "\n",
    "for iR, row in matrix.items():\n",
    "  for iC, vC in row.items():\n",
    "    if rows[iR] or columns[iC]:\n",
    "      &matrix[iR][iC] = match"
   ]
  },
  {
   "cell_type": "code",
   "execution_count": 8,
   "metadata": {},
   "outputs": [
    {
     "name": "stdout",
     "output_type": "stream",
     "text": [
      "0.5543651060987813\n",
      "0.5770629652208235\n",
      "0.188853219468051\n",
      "0.6266281806495383\n",
      "0.9476973914242799\n"
     ]
    }
   ],
   "source": [
    "import random\n",
    "print(random.random())\n",
    "print(random.random())\n",
    "print(random.random())\n",
    "print(random.random())\n",
    "print(random.random())"
   ]
  },
  {
   "cell_type": "code",
   "execution_count": 6,
   "metadata": {},
   "outputs": [
    {
     "name": "stdout",
     "output_type": "stream",
     "text": [
      "abcdefghijklmnopqrstuvwxyzABCDEFGHIJKLMNOPQRSTUVWXYZ\n",
      "I\n",
      "S\n",
      "N\n",
      "x\n",
      "h\n"
     ]
    }
   ],
   "source": [
    "import string\n",
    "print(string.ascii_letters)\n",
    "import random\n",
    "print(random.choice(string.ascii_letters))\n",
    "print(random.choice(string.ascii_letters))\n",
    "print(random.choice(string.ascii_letters))\n",
    "print(random.choice(string.ascii_letters))\n",
    "print(random.choice(string.ascii_letters))"
   ]
  },
  {
   "cell_type": "code",
   "execution_count": 7,
   "metadata": {},
   "outputs": [
    {
     "name": "stdout",
     "output_type": "stream",
     "text": [
      "7\n",
      "29\n",
      "73\n",
      "17\n",
      "94\n"
     ]
    }
   ],
   "source": [
    "import random\n",
    "print(random.randint(1,101))\n",
    "print(random.randint(1,101))\n",
    "print(random.randint(1,101))\n",
    "print(random.randint(1,101))\n",
    "print(random.randint(1,101))"
   ]
  },
  {
   "cell_type": "code",
   "execution_count": 3,
   "metadata": {},
   "outputs": [
    {
     "name": "stdout",
     "output_type": "stream",
     "text": [
      "[['z', 'Z', 'f', 'J', 'v', 'S', 'y', 'l', 'V', 'p', 'T', 'y', 'q', 'R', 's', 'O'], ['y', 'G'], ['t'], ['H', 'W', 'N', 'G', 'Y', 'y', 'r', 'p', 'g', 'I', 'J', 's', 'X', 'O', 'Z', 'O', 'd', 'P', 'K', 'h']]\n"
     ]
    }
   ],
   "source": [
    "import random\n",
    "import string\n",
    "print([[random.choice(string.ascii_letters) for i in range(random.randint(1,20))] for j in range(random.randint(1,20))])"
   ]
  },
  {
   "cell_type": "code",
   "execution_count": 6,
   "metadata": {},
   "outputs": [
    {
     "data": {
      "text/plain": [
       "[-785010, -440086, -758488, 442360, 849542, -927235, 105952, -198194]"
      ]
     },
     "execution_count": 6,
     "metadata": {},
     "output_type": "execute_result"
    }
   ],
   "source": [
    "random.sample(range(-1000000, 1000000), random.randint(1,10))"
   ]
  },
  {
   "cell_type": "code",
   "execution_count": 79,
   "metadata": {},
   "outputs": [
    {
     "data": {
      "text/plain": [
       "[76, -77, -63, -44, -27, 66, -58, 83]"
      ]
     },
     "execution_count": 79,
     "metadata": {},
     "output_type": "execute_result"
    }
   ],
   "source": [
    "import random\n",
    "random.sample(range(-100, 100), random.randint(5,10))"
   ]
  },
  {
   "cell_type": "code",
   "execution_count": null,
   "metadata": {
    "collapsed": true
   },
   "outputs": [],
   "source": []
  }
 ],
 "metadata": {
  "kernelspec": {
   "display_name": "Python 3",
   "language": "python",
   "name": "python3"
  },
  "language_info": {
   "codemirror_mode": {
    "name": "ipython",
    "version": 3
   },
   "file_extension": ".py",
   "mimetype": "text/x-python",
   "name": "python",
   "nbconvert_exporter": "python",
   "pygments_lexer": "ipython3",
   "version": "3.6.1"
  }
 },
 "nbformat": 4,
 "nbformat_minor": 2
}
