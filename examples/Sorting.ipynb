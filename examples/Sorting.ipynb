{
 "cells": [
  {
   "cell_type": "markdown",
   "metadata": {},
   "source": [
    "### Selection Sort -- O(n^2)\n",
    "\n",
    "**The idea:** Find the minimal element and swap it with the first element of an array. Next,\n",
    "just sort the rest of the array, without the first element, in the same way."
   ]
  },
  {
   "cell_type": "code",
   "execution_count": 4,
   "metadata": {
    "collapsed": true
   },
   "outputs": [],
   "source": [
    "def selection_sort(A):\n",
    "    n = len(A)\n",
    "    for i in range(n):\n",
    "        minimal = i\n",
    "        for j in range(i + 1, n):\n",
    "            if A[j] < A[minimal]:\n",
    "                minimal = j\n",
    "        A[i], A[minimal] = A[minimal], A[i] # swap A[i] and A[minimal]\n",
    "    return A"
   ]
  },
  {
   "cell_type": "code",
   "execution_count": 5,
   "metadata": {},
   "outputs": [
    {
     "name": "stdout",
     "output_type": "stream",
     "text": [
      "[3, 2, 6, 2, 3, 5, 5, 5, 2, 2]\n",
      "[2, 2, 2, 2, 3, 3, 5, 5, 5, 6]\n"
     ]
    }
   ],
   "source": [
    "import random\n",
    "A = [random.randrange(1, 7) for i in range(10)]\n",
    "print(A)\n",
    "print(selection_sort(A))"
   ]
  },
  {
   "cell_type": "code",
   "execution_count": 6,
   "metadata": {},
   "outputs": [
    {
     "name": "stdout",
     "output_type": "stream",
     "text": [
      "[2, 5, 2, 5, 7, 0, 6, 6, 7, 0]\n",
      "[0, 0, 2, 2, 5, 5, 6, 6, 7, 7]\n"
     ]
    }
   ],
   "source": [
    "import random\n",
    "A = [random.randrange(0, 8) for i in range(10)]\n",
    "print(A)\n",
    "print(selection_sort(A))"
   ]
  },
  {
   "cell_type": "markdown",
   "metadata": {},
   "source": [
    "### Counting sort -- O(n + k)\n",
    "\n",
    "**The idea:** First, count the elements in the array of counters. Next, just iterate\n",
    "through the array of counters in increasing order."
   ]
  },
  {
   "cell_type": "code",
   "execution_count": 15,
   "metadata": {
    "collapsed": true
   },
   "outputs": [],
   "source": [
    "def counting_sort(A):\n",
    "    n = len(A)\n",
    "    k = max(A)\n",
    "    count = [0] * (k + 1)\n",
    "    for i in range(n):\n",
    "        count[A[i]] += 1\n",
    "    p = 0\n",
    "    for i in range(k + 1):\n",
    "        for j in range(count[i]):\n",
    "            A[p] = i\n",
    "            p += 1\n",
    "    return A"
   ]
  },
  {
   "cell_type": "code",
   "execution_count": 17,
   "metadata": {},
   "outputs": [
    {
     "name": "stdout",
     "output_type": "stream",
     "text": [
      "[6, 6, 3, 5, 5, 3, 5, 5, 4, 3]\n",
      "[3, 3, 3, 4, 5, 5, 5, 5, 6, 6]\n"
     ]
    }
   ],
   "source": [
    "import random\n",
    "A = [random.randrange(1, 7) for i in range(10)]\n",
    "print(A)\n",
    "print(counting_sort(A))"
   ]
  },
  {
   "cell_type": "code",
   "execution_count": 19,
   "metadata": {},
   "outputs": [
    {
     "name": "stdout",
     "output_type": "stream",
     "text": [
      "[12, 1, 1, 14, 3, 8, 13, 7, 9, 10, 5, 10, 7, 6, 10, 6, 2, 6, 1, 3]\n",
      "[1, 1, 1, 2, 3, 3, 5, 6, 6, 6, 7, 7, 8, 9, 10, 10, 10, 12, 13, 14]\n"
     ]
    }
   ],
   "source": [
    "import random\n",
    "A = [random.randrange(1, 15) for i in range(20)]\n",
    "print(A)\n",
    "print(counting_sort(A))"
   ]
  },
  {
   "cell_type": "markdown",
   "metadata": {},
   "source": [
    "### Merge Sort -- O(n log n) \n",
    "\n",
    "**The idea:** Divide the unsorted array into two halves, sort each half separately and then just\n",
    "merge them. After the split, each part is halved again."
   ]
  },
  {
   "cell_type": "code",
   "execution_count": 22,
   "metadata": {
    "collapsed": true
   },
   "outputs": [],
   "source": [
    "def merge_sort(A):\n",
    "    if len(A) > 1:\n",
    "        mid = len(A) // 2\n",
    "        lefthalf = A[:mid]\n",
    "        righthalf = A[mid:]\n",
    "\n",
    "        merge_sort(lefthalf)\n",
    "        merge_sort(righthalf)\n",
    "\n",
    "        i=0\n",
    "        j=0\n",
    "        k=0\n",
    "        while i < len(lefthalf) and j < len(righthalf):\n",
    "            if lefthalf[i] < righthalf[j]:\n",
    "                A[k] = lefthalf[i]\n",
    "                i += 1\n",
    "            else:\n",
    "                A[k] = righthalf[j]\n",
    "                j += 1\n",
    "            k += 1\n",
    "\n",
    "        while i < len(lefthalf):\n",
    "            A[k] = lefthalf[i]\n",
    "            i += 1\n",
    "            k += 1\n",
    "\n",
    "        while j < len(righthalf):\n",
    "            A[k] = righthalf[j]\n",
    "            j += 1\n",
    "            k += 1\n",
    "    return A"
   ]
  },
  {
   "cell_type": "code",
   "execution_count": 23,
   "metadata": {},
   "outputs": [
    {
     "name": "stdout",
     "output_type": "stream",
     "text": [
      "[12, 11, 11, 4, 12, 1, 12, 14, 2, 7, 5, 4, 11, 13, 13, 4, 1, 3, 2, 10]\n",
      "[1, 1, 2, 2, 3, 4, 4, 4, 5, 7, 10, 11, 11, 11, 12, 12, 12, 13, 13, 14]\n"
     ]
    }
   ],
   "source": [
    "import random\n",
    "A = [random.randrange(1, 15) for i in range(20)]\n",
    "print(A)\n",
    "print(merge_sort(A))"
   ]
  },
  {
   "cell_type": "markdown",
   "metadata": {},
   "source": [
    "### Distinct Values -- O(n log n)\n",
    "\n",
    "**Problem:** You are given a zero-indexed array A consisting of n > 0 integers; you must return\n",
    "the number of unique values in array A.\n",
    "**Solution O(n log n):** First, sort array A; similar values will then be next to each other.\n",
    "Finally, just count the number of distinct pairs in adjacent cells."
   ]
  },
  {
   "cell_type": "code",
   "execution_count": 25,
   "metadata": {
    "collapsed": true
   },
   "outputs": [],
   "source": [
    "def distinct(A):\n",
    "    n = len(A)\n",
    "    A.sort()\n",
    "    result = 1\n",
    "    for i in range(1, n):\n",
    "        if A[i] != A[i - 1]:\n",
    "            result += 1\n",
    "    return result"
   ]
  },
  {
   "cell_type": "code",
   "execution_count": 27,
   "metadata": {},
   "outputs": [
    {
     "name": "stdout",
     "output_type": "stream",
     "text": [
      "[4, 1, 6, 11, 2, 1, 6, 10, 6, 11, 5, 7, 10, 9, 11, 3, 12, 4, 7, 10]\n",
      "11\n"
     ]
    }
   ],
   "source": [
    "import random\n",
    "A = [random.randrange(1, 15) for i in range(20)]\n",
    "print(A)\n",
    "print(distinct(A))"
   ]
  },
  {
   "cell_type": "markdown",
   "metadata": {},
   "source": [
    "### Max product of 3 integers"
   ]
  },
  {
   "cell_type": "code",
   "execution_count": 28,
   "metadata": {
    "collapsed": true
   },
   "outputs": [],
   "source": [
    "def maximum_product(nums): # O(n log(n)) solution\n",
    "    nums.sort()\n",
    "    assert len(nums) >= 3 # assume the input has been validated\n",
    "    a1 = nums[-1] * nums[-2] * nums[-3]\n",
    "    a2 = nums[0] * nums[1] * nums[-1]\n",
    "    return max(a1, a2)"
   ]
  },
  {
   "cell_type": "code",
   "execution_count": 31,
   "metadata": {},
   "outputs": [
    {
     "name": "stdout",
     "output_type": "stream",
     "text": [
      "[7, 15, 13, 12, 10, 9, 1, 11, 1, 6, 3, 6, 4, 10, 7, 5, 7, 18, 6, 14]\n",
      "[1, 1, 3, 4, 5, 6, 6, 6, 7, 7, 7, 9, 10, 10, 11, 12, 13, 14, 15, 18]\n",
      "3780\n"
     ]
    }
   ],
   "source": [
    "import random\n",
    "A = [random.randrange(0, 19) for i in range(20)]\n",
    "print(A)\n",
    "print(merge_sort(A))\n",
    "print(maximum_product(A))"
   ]
  },
  {
   "cell_type": "code",
   "execution_count": 32,
   "metadata": {},
   "outputs": [
    {
     "name": "stdout",
     "output_type": "stream",
     "text": [
      "[5, 3, 17, 7, 11, 16, 4, 0, 15, 8, 3, 16, 8, 2, 11, 7, 7, 11, 13, 15]\n",
      "[0, 2, 3, 3, 4, 5, 7, 7, 7, 8, 8, 11, 11, 11, 13, 15, 15, 16, 16, 17]\n",
      "4352\n"
     ]
    }
   ],
   "source": [
    "import random\n",
    "A = [random.randrange(0, 19) for i in range(20)]\n",
    "print(A)\n",
    "print(merge_sort(A))\n",
    "print(maximum_product(A))"
   ]
  },
  {
   "cell_type": "code",
   "execution_count": 34,
   "metadata": {},
   "outputs": [
    {
     "name": "stdout",
     "output_type": "stream",
     "text": [
      "0\n"
     ]
    }
   ],
   "source": [
    "A = [0, 1, 2]\n",
    "print(maximum_product(A))"
   ]
  },
  {
   "cell_type": "code",
   "execution_count": 35,
   "metadata": {},
   "outputs": [
    {
     "name": "stdout",
     "output_type": "stream",
     "text": [
      "210\n"
     ]
    }
   ],
   "source": [
    "A = [2, 5, 6, 7]\n",
    "print(maximum_product(A))"
   ]
  },
  {
   "cell_type": "code",
   "execution_count": null,
   "metadata": {
    "collapsed": true
   },
   "outputs": [],
   "source": []
  }
 ],
 "metadata": {
  "kernelspec": {
   "display_name": "Python 3",
   "language": "python",
   "name": "python3"
  },
  "language_info": {
   "codemirror_mode": {
    "name": "ipython",
    "version": 3
   },
   "file_extension": ".py",
   "mimetype": "text/x-python",
   "name": "python",
   "nbconvert_exporter": "python",
   "pygments_lexer": "ipython3",
   "version": "3.6.1"
  }
 },
 "nbformat": 4,
 "nbformat_minor": 2
}
