{
 "cells": [
  {
   "cell_type": "markdown",
   "metadata": {},
   "source": [
    "Let’s define a problem relating to maximum slices. You are given a sequence of n integers\n",
    "a0, a1,...,an≠1 and the task is to find the slice with the largest sum."
   ]
  },
  {
   "cell_type": "markdown",
   "metadata": {},
   "source": [
    "### Maximal slice — O(n3)"
   ]
  },
  {
   "cell_type": "code",
   "execution_count": 16,
   "metadata": {
    "collapsed": true
   },
   "outputs": [],
   "source": [
    "def max_slice_cubic(A):\n",
    "    n = len(A)\n",
    "    max_result = 0\n",
    "    max_p = -1\n",
    "    max_q = -1\n",
    "    for p in range(n):\n",
    "        for q in range(p, n):\n",
    "            result = 0\n",
    "            for i in range(p, q + 1):\n",
    "                result += A[i]\n",
    "            \n",
    "            if result > max_result:\n",
    "                max_result = result\n",
    "                max_p = p\n",
    "                max_q = q\n",
    "\n",
    "    return max_result, max_p, max_q"
   ]
  },
  {
   "cell_type": "code",
   "execution_count": 17,
   "metadata": {},
   "outputs": [
    {
     "name": "stdout",
     "output_type": "stream",
     "text": [
      "[-6, -7, -3, 0, 7, -7, 6, 1, -7, 2]\n",
      "(7, 3, 4)\n"
     ]
    }
   ],
   "source": [
    "import random\n",
    "A = [random.randrange(-9, 9) for i in range(10)]\n",
    "print(A)\n",
    "print(max_slice_cubic(A))"
   ]
  },
  {
   "cell_type": "markdown",
   "metadata": {},
   "source": [
    "### Maximal slice — O(n2)"
   ]
  },
  {
   "cell_type": "code",
   "execution_count": 20,
   "metadata": {},
   "outputs": [],
   "source": [
    "def prefix_sums(A):\n",
    "    n = len(A)\n",
    "    P = [0] * (n + 1)\n",
    "    for i in range(1, n + 1):\n",
    "        P[i] = P[i - 1] + A[i - 1]\n",
    "    return P\n",
    "\n",
    "def max_slice_quadratic(A):\n",
    "    n = len(A)\n",
    "    result = 0\n",
    "    P = prefix_sums(A)\n",
    "    for p in range(n):\n",
    "        for q in range(p, n):\n",
    "            sum = P[q + 1] - P[p]\n",
    "            result = max(result, sum)\n",
    "    return result"
   ]
  },
  {
   "cell_type": "code",
   "execution_count": 21,
   "metadata": {},
   "outputs": [
    {
     "name": "stdout",
     "output_type": "stream",
     "text": [
      "[-7, -7, 8, 5, 1, -4, 4, -5, 3, 2]\n",
      "14\n"
     ]
    }
   ],
   "source": [
    "import random\n",
    "A = [random.randrange(-9, 9) for i in range(10)]\n",
    "print(A)\n",
    "print(max_slice_quadratic(A))"
   ]
  },
  {
   "cell_type": "markdown",
   "metadata": {},
   "source": [
    "### MaxProfit"
   ]
  },
  {
   "cell_type": "code",
   "execution_count": 25,
   "metadata": {
    "collapsed": true
   },
   "outputs": [],
   "source": [
    "def max_profit(A):\n",
    "    if len(A) <= 1:\n",
    "        return 0\n",
    "    profit = 0\n",
    "    low = A[0]\n",
    "    i_buy = 0\n",
    "    i_sell = -1\n",
    "    for i in range(1, len(A)):\n",
    "        if A[i] < low:\n",
    "            i_buy = i\n",
    "            low = A[i]\n",
    "        else:\n",
    "            if A[i] - low > profit:\n",
    "                profit = A[i] - low\n",
    "                i_sell = i\n",
    "\n",
    "    return profit, i_buy, i_sell"
   ]
  },
  {
   "cell_type": "code",
   "execution_count": 31,
   "metadata": {},
   "outputs": [
    {
     "name": "stdout",
     "output_type": "stream",
     "text": [
      "[20000, 20001, 20016, 20017, 20046, 20047, 20009, 20024, 20018, 20041, 20049, 20012, 20046, 20037, 20017, 20009, 20024, 20041, 20026, 20008]\n",
      "(49, 0, 10)\n"
     ]
    }
   ],
   "source": [
    "import random\n",
    "A = [random.randrange(20000, 20050) for i in range(20)]\n",
    "print(A)\n",
    "print(max_profit(A))"
   ]
  },
  {
   "cell_type": "code",
   "execution_count": null,
   "metadata": {
    "collapsed": true
   },
   "outputs": [],
   "source": []
  }
 ],
 "metadata": {
  "kernelspec": {
   "display_name": "Python 3",
   "language": "python",
   "name": "python3"
  },
  "language_info": {
   "codemirror_mode": {
    "name": "ipython",
    "version": 3
   },
   "file_extension": ".py",
   "mimetype": "text/x-python",
   "name": "python",
   "nbconvert_exporter": "python",
   "pygments_lexer": "ipython3",
   "version": "3.6.1"
  }
 },
 "nbformat": 4,
 "nbformat_minor": 2
}
