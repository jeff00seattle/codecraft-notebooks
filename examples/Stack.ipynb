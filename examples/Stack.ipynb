{
 "cells": [
  {
   "cell_type": "code",
   "execution_count": 62,
   "metadata": {
    "collapsed": true
   },
   "outputs": [],
   "source": [
    "class Stack:\n",
    "    def __init__(self):\n",
    "        self.__storage = []\n",
    "\n",
    "    def empty(self):\n",
    "        return len(self.__storage) == 0\n",
    "\n",
    "    def push(self,p):\n",
    "        self.__storage.append(p)\n",
    "    \n",
    "    def peek(self):\n",
    "        return self.__storage[-1]\n",
    "\n",
    "    def pop(self):\n",
    "        return self.__storage.pop()\n",
    "    \n",
    "    def __str__(self):\n",
    "        return str(self.__storage)\n",
    "    \n",
    "    def size(self):\n",
    "         return len(self.__storage)\n"
   ]
  },
  {
   "cell_type": "code",
   "execution_count": 63,
   "metadata": {},
   "outputs": [
    {
     "name": "stdout",
     "output_type": "stream",
     "text": [
      "[]\n"
     ]
    }
   ],
   "source": [
    "s = Stack()\n",
    "print(s)"
   ]
  },
  {
   "cell_type": "code",
   "execution_count": 64,
   "metadata": {},
   "outputs": [
    {
     "name": "stdout",
     "output_type": "stream",
     "text": [
      "dog\n"
     ]
    }
   ],
   "source": [
    "s.push(4)\n",
    "s.push('dog')\n",
    "print(s.peek())"
   ]
  },
  {
   "cell_type": "code",
   "execution_count": 65,
   "metadata": {},
   "outputs": [
    {
     "name": "stdout",
     "output_type": "stream",
     "text": [
      "[4, 'dog']\n"
     ]
    }
   ],
   "source": [
    "print(s)"
   ]
  },
  {
   "cell_type": "code",
   "execution_count": 66,
   "metadata": {
    "collapsed": true
   },
   "outputs": [],
   "source": [
    "s.push(True)"
   ]
  },
  {
   "cell_type": "code",
   "execution_count": 67,
   "metadata": {},
   "outputs": [
    {
     "name": "stdout",
     "output_type": "stream",
     "text": [
      "3\n"
     ]
    }
   ],
   "source": [
    "print(s.size())"
   ]
  },
  {
   "cell_type": "code",
   "execution_count": 70,
   "metadata": {},
   "outputs": [
    {
     "name": "stdout",
     "output_type": "stream",
     "text": [
      "False\n"
     ]
    }
   ],
   "source": [
    "print(s.empty())"
   ]
  },
  {
   "cell_type": "code",
   "execution_count": 71,
   "metadata": {
    "collapsed": true
   },
   "outputs": [],
   "source": [
    "s.push(8.4)"
   ]
  },
  {
   "cell_type": "code",
   "execution_count": 72,
   "metadata": {},
   "outputs": [
    {
     "name": "stdout",
     "output_type": "stream",
     "text": [
      "[4, 'dog', True, 8.4, 8.4]\n"
     ]
    }
   ],
   "source": [
    "print(s)"
   ]
  },
  {
   "cell_type": "code",
   "execution_count": 73,
   "metadata": {},
   "outputs": [
    {
     "name": "stdout",
     "output_type": "stream",
     "text": [
      "8.4\n",
      "8.4\n",
      "3\n"
     ]
    }
   ],
   "source": [
    "print(s.pop())\n",
    "print(s.pop())\n",
    "print(s.size())"
   ]
  },
  {
   "cell_type": "code",
   "execution_count": 74,
   "metadata": {},
   "outputs": [
    {
     "name": "stdout",
     "output_type": "stream",
     "text": [
      "[4, 'dog', True]\n"
     ]
    }
   ],
   "source": [
    "print(s)"
   ]
  },
  {
   "cell_type": "markdown",
   "metadata": {
    "collapsed": true
   },
   "source": [
    "### Fish"
   ]
  },
  {
   "cell_type": "code",
   "execution_count": 86,
   "metadata": {
    "collapsed": true
   },
   "outputs": [],
   "source": [
    "def fish(A, B):\n",
    "    s = Stack()\n",
    "    for i in range(0, len(A)):\n",
    "        assert isinstance(A, list)\n",
    "        assert isinstance(B, list)\n",
    "        fish_size = A[i]\n",
    "        fish_direction = B[i]\n",
    "        if s.empty():\n",
    "            s.push(i)\n",
    "        else:\n",
    "            while not s.empty() and (fish_direction - B[s.peek()]) == -1 and A[s.peek()] < fish_size:\n",
    "                s.pop()\n",
    "                \n",
    "            if not s.empty():\n",
    "                if (fish_direction - B[s.peek()]) != -1:\n",
    "                    s.push(i)\n",
    "            else:\n",
    "                s.push(i)\n",
    "    \n",
    "    return s.size()\n",
    "    "
   ]
  },
  {
   "cell_type": "code",
   "execution_count": 87,
   "metadata": {},
   "outputs": [
    {
     "name": "stdout",
     "output_type": "stream",
     "text": [
      "[6, 4, 4, 5, 5, 6, 2, 4, 5, 4]\n",
      "[1, 0, 1, 1, 1, 0, 1, 0, 0, 1]\n"
     ]
    },
    {
     "data": {
      "text/plain": [
       "2"
      ]
     },
     "execution_count": 87,
     "metadata": {},
     "output_type": "execute_result"
    }
   ],
   "source": [
    "import random\n",
    "A = [random.randint(1, 6) for _ in range(0, 10)]\n",
    "print(A)\n",
    "B = [random.randint(0, 1) for _ in range(0, 10)]\n",
    "print(B)\n",
    "fish(A, B)"
   ]
  },
  {
   "cell_type": "code",
   "execution_count": 88,
   "metadata": {},
   "outputs": [
    {
     "name": "stdout",
     "output_type": "stream",
     "text": [
      "[6, 2, 3, 6, 2, 3, 6, 5, 6, 6]\n",
      "[1, 1, 1, 1, 0, 0, 1, 0, 1, 0]\n"
     ]
    },
    {
     "data": {
      "text/plain": [
       "6"
      ]
     },
     "execution_count": 88,
     "metadata": {},
     "output_type": "execute_result"
    }
   ],
   "source": [
    "import random\n",
    "A = [random.randint(1, 6) for _ in range(0, 10)]\n",
    "print(A)\n",
    "B = [random.randint(0, 1) for _ in range(0, 10)]\n",
    "print(B)\n",
    "fish(A, B)"
   ]
  },
  {
   "cell_type": "code",
   "execution_count": 89,
   "metadata": {},
   "outputs": [
    {
     "name": "stdout",
     "output_type": "stream",
     "text": [
      "[5, 1, 6, 3, 1, 6, 1, 5, 4, 1]\n",
      "[1, 0, 1, 0, 1, 0, 0, 0, 1, 1]\n"
     ]
    },
    {
     "data": {
      "text/plain": [
       "4"
      ]
     },
     "execution_count": 89,
     "metadata": {},
     "output_type": "execute_result"
    }
   ],
   "source": [
    "import random\n",
    "A = [random.randint(1, 6) for _ in range(0, 10)]\n",
    "print(A)\n",
    "B = [random.randint(0, 1) for _ in range(0, 10)]\n",
    "print(B)\n",
    "fish(A, B)"
   ]
  },
  {
   "cell_type": "code",
   "execution_count": 90,
   "metadata": {
    "collapsed": true
   },
   "outputs": [],
   "source": [
    "def fish_2(A, B):\n",
    "    survivals = 0\n",
    "    stack = []\n",
    "     \n",
    "    for idx in range(len(A)):\n",
    "        if B[idx] == 0:\n",
    "            while len(stack) != 0:\n",
    "                if stack[-1] > A[idx]:\n",
    "                    break\n",
    "                else:\n",
    "                    stack.pop()\n",
    "                         \n",
    "            else:\n",
    "                survivals += 1\n",
    "        else:\n",
    "            stack.append(A[idx])\n",
    "             \n",
    "    survivals += len(stack)\n",
    "     \n",
    "    return survivals"
   ]
  },
  {
   "cell_type": "code",
   "execution_count": 91,
   "metadata": {},
   "outputs": [
    {
     "name": "stdout",
     "output_type": "stream",
     "text": [
      "[1, 1, 4, 1, 5, 6, 2, 5, 5, 1]\n",
      "[1, 0, 1, 0, 1, 0, 0, 0, 0, 0]\n"
     ]
    },
    {
     "data": {
      "text/plain": [
       "6"
      ]
     },
     "execution_count": 91,
     "metadata": {},
     "output_type": "execute_result"
    }
   ],
   "source": [
    "import random\n",
    "A = [random.randint(1, 6) for _ in range(0, 10)]\n",
    "print(A)\n",
    "B = [random.randint(0, 1) for _ in range(0, 10)]\n",
    "print(B)\n",
    "fish_2(A, B)"
   ]
  },
  {
   "cell_type": "code",
   "execution_count": 94,
   "metadata": {
    "collapsed": true
   },
   "outputs": [],
   "source": [
    "def fish_3(A, B):\n",
    "    alive_count = 0        # The number of fish that will stay alive\n",
    "    downstream = []        # To record the fishs flowing downstream\n",
    "    downstream_count = 0   # To record the number of elements in downstream\n",
    " \n",
    "    for index in range(len(A)):\n",
    "        # Compute for each fish\n",
    "        if B[index] == 1:\n",
    "            # This fish is flowing downstream. It would\n",
    "            # NEVER meet the previous fishs. But possibly\n",
    "            # it has to fight with the downstream fishs.\n",
    "            downstream.append(A[index])\n",
    "            downstream_count += 1\n",
    "        else:\n",
    "            # This fish is flowing upstream. It would either\n",
    "            #    eat ALL the previous downstream-flow fishs,\n",
    "            #    and stay alive.\n",
    "            # OR\n",
    "            #    be eaten by ONE of the previous downstream-\n",
    "            #    flow fishs, which is bigger, and died.\n",
    "            while downstream_count != 0:\n",
    "                # It has to fight with each previous living\n",
    "                # fish, with nearest first.\n",
    "                if downstream[-1] < A[index]:\n",
    "                    # Win and to continue the next fight\n",
    "                    downstream_count -= 1\n",
    "                    downstream.pop()\n",
    "                else:\n",
    "                    # Lose and die\n",
    "                    break\n",
    "            else:\n",
    "                # This upstream-flow fish eat all the previous\n",
    "                # downstream-flow fishs. Win and stay alive.\n",
    "                alive_count += 1\n",
    " \n",
    "    # Currently, all the downstream-flow fishs in stack\n",
    "    # downstream will not meet with any fish. They will\n",
    "    # stay alive.\n",
    "    alive_count += len(downstream)\n",
    " \n",
    "    return alive_count"
   ]
  },
  {
   "cell_type": "code",
   "execution_count": 95,
   "metadata": {},
   "outputs": [
    {
     "name": "stdout",
     "output_type": "stream",
     "text": [
      "[5, 4, 5, 2, 4, 2, 1, 2, 2, 5]\n",
      "[1, 0, 0, 1, 0, 0, 1, 0, 0, 1]\n"
     ]
    },
    {
     "data": {
      "text/plain": [
       "2"
      ]
     },
     "execution_count": 95,
     "metadata": {},
     "output_type": "execute_result"
    }
   ],
   "source": [
    "import random\n",
    "A = [random.randint(1, 6) for _ in range(0, 10)]\n",
    "print(A)\n",
    "B = [random.randint(0, 1) for _ in range(0, 10)]\n",
    "print(B)\n",
    "fish_3(A, B)"
   ]
  },
  {
   "cell_type": "code",
   "execution_count": null,
   "metadata": {
    "collapsed": true
   },
   "outputs": [],
   "source": []
  }
 ],
 "metadata": {
  "kernelspec": {
   "display_name": "Python 3",
   "language": "python",
   "name": "python3"
  },
  "language_info": {
   "codemirror_mode": {
    "name": "ipython",
    "version": 3
   },
   "file_extension": ".py",
   "mimetype": "text/x-python",
   "name": "python",
   "nbconvert_exporter": "python",
   "pygments_lexer": "ipython3",
   "version": "3.6.1"
  }
 },
 "nbformat": 4,
 "nbformat_minor": 2
}
