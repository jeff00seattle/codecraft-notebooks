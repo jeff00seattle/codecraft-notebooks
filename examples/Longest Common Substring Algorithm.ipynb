{
 "cells": [
  {
   "cell_type": "markdown",
   "metadata": {},
   "source": [
    "## Longest common substring problem\n",
    "\n",
    "[reference](http://www.bogotobogo.com/python/python_longest_common_substring_lcs_algorithm_generalized_suffix_tree.php) \n",
    "\n",
    "In computer science, the longest common substring problem is to find the longest string (or strings) that is a substring (or are substrings) of two or more strings.\n",
    "\n",
    "For example, given two strings: 'academy' and 'abracadabra', the common and the longest is 'acad'.\n",
    "\n",
    "Another example: ''ababc', 'abcdaba'. For this one, we have two substrings with length of 3: 'abc' and 'aba'.\n",
    "\n",
    "There are several algorithms to solve this problem such as **Generalized suffix tree**."
   ]
  },
  {
   "cell_type": "markdown",
   "metadata": {},
   "source": [
    "### Generalized suffix tree\n",
    "\n",
    "\n",
    "Suffix tree for the strings ABAB and BABA. Suffix links not shown.\n",
    "In computer science, a generalized suffix tree is a suffix tree for a set of strings. Given the set of strings ***D=S1,S2,...,Sd*** of total length ***n***, it is a Patricia tree containing all ***n*** suffixes of the strings."
   ]
  },
  {
   "cell_type": "code",
   "execution_count": 1,
   "metadata": {
    "collapsed": true
   },
   "outputs": [],
   "source": [
    "def lcs(S,T):\n",
    "    m = len(S)\n",
    "    n = len(T)\n",
    "    counter = [[0]*(n+1) for x in range(m+1)]\n",
    "    longest = 0\n",
    "    lcs_set = set()\n",
    "    for i in range(m):\n",
    "        for j in range(n):\n",
    "            if S[i] == T[j]:\n",
    "                c = counter[i][j] + 1\n",
    "                counter[i+1][j+1] = c\n",
    "                if c > longest:\n",
    "                    lcs_set = set()\n",
    "                    longest = c\n",
    "                    lcs_set.add(S[i-c+1:i+1])\n",
    "                elif c == longest:\n",
    "                    lcs_set.add(S[i-c+1:i+1])\n",
    "\n",
    "    return lcs_set\n"
   ]
  },
  {
   "cell_type": "code",
   "execution_count": 4,
   "metadata": {},
   "outputs": [
    {
     "name": "stdout",
     "output_type": "stream",
     "text": [
      "acad\n",
      "abc\n",
      "aba\n"
     ]
    }
   ],
   "source": [
    "# test 1\n",
    "ret = lcs('academy', 'abracadabra')\n",
    "for s in ret:\n",
    "    print(s)\n",
    "\n",
    "# test 2\n",
    "ret = lcs('ababc', 'abcdaba')\n",
    "for s in ret:\n",
    "    print(s)"
   ]
  },
  {
   "cell_type": "code",
   "execution_count": null,
   "metadata": {
    "collapsed": true
   },
   "outputs": [],
   "source": []
  }
 ],
 "metadata": {
  "kernelspec": {
   "display_name": "Python 3",
   "language": "python",
   "name": "python3"
  },
  "language_info": {
   "codemirror_mode": {
    "name": "ipython",
    "version": 3
   },
   "file_extension": ".py",
   "mimetype": "text/x-python",
   "name": "python",
   "nbconvert_exporter": "python",
   "pygments_lexer": "ipython3",
   "version": "3.6.1"
  }
 },
 "nbformat": 4,
 "nbformat_minor": 2
}
