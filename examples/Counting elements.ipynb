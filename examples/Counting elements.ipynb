{
 "cells": [
  {
   "cell_type": "code",
   "execution_count": 3,
   "metadata": {
    "collapsed": true
   },
   "outputs": [],
   "source": [
    "def counting(A, m):\n",
    "    n = len(A)\n",
    "    count = [0] * (m + 1)\n",
    "    for i in range(n):\n",
    "        count[A[i]] += 1\n",
    "    return count"
   ]
  },
  {
   "cell_type": "code",
   "execution_count": 7,
   "metadata": {},
   "outputs": [
    {
     "name": "stdout",
     "output_type": "stream",
     "text": [
      "[9, 3, 4, 4, 8, 1, 6, 1, 1, 2, 4, 3, 9, 4, 7, 3, 7, 3, 9, 1]\n",
      "[(0, 0), (4, 1), (1, 2), (4, 3), (4, 4), (0, 5), (1, 6), (2, 7), (1, 8), (3, 9)]\n"
     ]
    }
   ],
   "source": [
    "import random\n",
    "A = [random.randrange(10) for i in range(20)]\n",
    "print(A)\n",
    "print(list(zip(counting(A, 10), list(range(10)))))"
   ]
  },
  {
   "cell_type": "code",
   "execution_count": 12,
   "metadata": {
    "collapsed": true
   },
   "outputs": [],
   "source": [
    "def swap_sum_equal_slow(A, B, m):\n",
    "    n = len(A)\n",
    "    sum_a = sum(A)\n",
    "    sum_b = sum(B)\n",
    "    for i in range(n):\n",
    "        for j in range(n):\n",
    "            change = B[j] - A[i]\n",
    "            sum_a += change\n",
    "            sum_b -= change\n",
    "            if sum_a == sum_b:\n",
    "                return True\n",
    "            sum_a -= change\n",
    "            sum_b += change\n",
    "    return False"
   ]
  },
  {
   "cell_type": "code",
   "execution_count": 17,
   "metadata": {},
   "outputs": [
    {
     "name": "stdout",
     "output_type": "stream",
     "text": [
      "[9, 5, 6, 9, 3, 6, 9, 6, 8, 3, 5, 4, 7, 0, 7, 9, 2, 5, 3, 0]\n",
      "[8, 4, 1, 8, 6, 4, 1, 7, 1, 6, 1, 1, 5, 9, 8, 7, 0, 0, 4, 9]\n",
      "True\n"
     ]
    }
   ],
   "source": [
    "A = [random.randrange(10) for i in range(20)]\n",
    "print(A)\n",
    "B = [random.randrange(10) for i in range(20)]\n",
    "print(B)\n",
    "print(swap_sum_equal_slow(A, B, 10))"
   ]
  },
  {
   "cell_type": "code",
   "execution_count": 20,
   "metadata": {},
   "outputs": [
    {
     "name": "stdout",
     "output_type": "stream",
     "text": [
      "[2, 0, 9, 0, 7, 7, 7, 3, 7, 9, 5, 5, 0, 3, 7, 0, 6, 0, 2, 7]\n",
      "[8, 0, 3, 0, 3, 4, 6, 5, 6, 4, 0, 4, 3, 1, 9, 1, 8, 4, 8, 7]\n",
      "True\n"
     ]
    }
   ],
   "source": [
    "A = [random.randrange(10) for i in range(20)]\n",
    "print(A)\n",
    "B = [random.randrange(10) for i in range(20)]\n",
    "print(B)\n",
    "print(swap_sum_equal_slow(A, B, 10))"
   ]
  },
  {
   "cell_type": "code",
   "execution_count": 21,
   "metadata": {
    "collapsed": true
   },
   "outputs": [],
   "source": [
    "def swap_sum_equal_fast(A, B, m):\n",
    "    n = len(A)\n",
    "    sum_a = sum(A)\n",
    "    sum_b = sum(B)\n",
    "    d = sum_b - sum_a\n",
    "    if d % 2 == 1:\n",
    "        return False\n",
    "    d //= 2\n",
    "    count = counting(A, m)\n",
    "    for i in range(n):\n",
    "        if 0 <= B[i] - d and B[i] - d <= m and count[B[i] - d] > 0:\n",
    "            return True\n",
    "    return False"
   ]
  },
  {
   "cell_type": "code",
   "execution_count": 22,
   "metadata": {},
   "outputs": [
    {
     "name": "stdout",
     "output_type": "stream",
     "text": [
      "[0, 4, 4, 8, 8, 4, 4, 0, 9, 0, 2, 8, 4, 5, 6, 2, 7, 5, 5, 9]\n",
      "[6, 0, 9, 4, 0, 8, 9, 5, 0, 8, 6, 2, 9, 7, 0, 7, 4, 0, 2, 0]\n",
      "True\n"
     ]
    }
   ],
   "source": [
    "A = [random.randrange(10) for i in range(20)]\n",
    "print(A)\n",
    "B = [random.randrange(10) for i in range(20)]\n",
    "print(B)\n",
    "print(swap_sum_equal_fast(A, B, 10))"
   ]
  },
  {
   "cell_type": "code",
   "execution_count": 23,
   "metadata": {},
   "outputs": [
    {
     "name": "stdout",
     "output_type": "stream",
     "text": [
      "[6, 0, 9, 4, 4, 2, 4, 8, 9, 7, 5, 3, 3, 6, 1, 1, 7, 6, 2, 3]\n",
      "[1, 5, 7, 6, 1, 3, 3, 3, 3, 6, 6, 2, 2, 4, 4, 5, 5, 4, 6, 0]\n",
      "True\n"
     ]
    }
   ],
   "source": [
    "A = [random.randrange(10) for i in range(20)]\n",
    "print(A)\n",
    "B = [random.randrange(10) for i in range(20)]\n",
    "print(B)\n",
    "print(swap_sum_equal_fast(A, B, 10))"
   ]
  },
  {
   "cell_type": "code",
   "execution_count": 24,
   "metadata": {},
   "outputs": [
    {
     "name": "stdout",
     "output_type": "stream",
     "text": [
      "[6, 0, 6, 7, 5, 6, 0, 4, 0, 0, 7, 6, 0, 1, 5, 8, 2, 4, 4, 3]\n",
      "[8, 1, 6, 0, 2, 6, 6, 6, 8, 0, 7, 9, 8, 3, 9, 0, 2, 5, 4, 8]\n",
      "False\n"
     ]
    }
   ],
   "source": []
  },
  {
   "cell_type": "markdown",
   "metadata": {},
   "source": [
    "### Frog-River-One"
   ]
  },
  {
   "cell_type": "code",
   "execution_count": 28,
   "metadata": {
    "collapsed": true
   },
   "outputs": [],
   "source": [
    "def solution(X, A):\n",
    "    covered = 0\n",
    "    covered_a = [-1]*X\n",
    "    for index, element in enumerate(A):\n",
    "        if covered_a[element-1] == -1:\n",
    "            covered_a[element-1] = element\n",
    "            covered += 1\n",
    "            if covered == X:\n",
    "                return index\n",
    "    return -1"
   ]
  },
  {
   "cell_type": "code",
   "execution_count": 33,
   "metadata": {},
   "outputs": [
    {
     "name": "stdout",
     "output_type": "stream",
     "text": [
      "[2, 6, 4, 1, 2, 3, 5, 2, 2, 3]\n"
     ]
    },
    {
     "ename": "IndexError",
     "evalue": "list index out of range",
     "output_type": "error",
     "traceback": [
      "\u001b[0;31m---------------------------------------------------------------------------\u001b[0m",
      "\u001b[0;31mIndexError\u001b[0m                                Traceback (most recent call last)",
      "\u001b[0;32m<ipython-input-33-29ebfde48c5d>\u001b[0m in \u001b[0;36m<module>\u001b[0;34m()\u001b[0m\n\u001b[1;32m      1\u001b[0m \u001b[0mA\u001b[0m \u001b[0;34m=\u001b[0m \u001b[0;34m[\u001b[0m\u001b[0mrandom\u001b[0m\u001b[0;34m.\u001b[0m\u001b[0mrandrange\u001b[0m\u001b[0;34m(\u001b[0m\u001b[0;36m1\u001b[0m\u001b[0;34m,\u001b[0m \u001b[0;36m7\u001b[0m\u001b[0;34m)\u001b[0m \u001b[0;32mfor\u001b[0m \u001b[0mi\u001b[0m \u001b[0;32min\u001b[0m \u001b[0mrange\u001b[0m\u001b[0;34m(\u001b[0m\u001b[0;36m10\u001b[0m\u001b[0;34m)\u001b[0m\u001b[0;34m]\u001b[0m\u001b[0;34m\u001b[0m\u001b[0m\n\u001b[1;32m      2\u001b[0m \u001b[0mprint\u001b[0m\u001b[0;34m(\u001b[0m\u001b[0mA\u001b[0m\u001b[0;34m)\u001b[0m\u001b[0;34m\u001b[0m\u001b[0m\n\u001b[0;32m----> 3\u001b[0;31m \u001b[0mprint\u001b[0m\u001b[0;34m(\u001b[0m\u001b[0msolution\u001b[0m\u001b[0;34m(\u001b[0m\u001b[0;36m5\u001b[0m\u001b[0;34m,\u001b[0m \u001b[0mA\u001b[0m\u001b[0;34m)\u001b[0m\u001b[0;34m)\u001b[0m\u001b[0;34m\u001b[0m\u001b[0m\n\u001b[0m",
      "\u001b[0;32m<ipython-input-28-0f49231673ca>\u001b[0m in \u001b[0;36msolution\u001b[0;34m(X, A)\u001b[0m\n\u001b[1;32m      3\u001b[0m     \u001b[0mcovered_a\u001b[0m \u001b[0;34m=\u001b[0m \u001b[0;34m[\u001b[0m\u001b[0;34m-\u001b[0m\u001b[0;36m1\u001b[0m\u001b[0;34m]\u001b[0m\u001b[0;34m*\u001b[0m\u001b[0mX\u001b[0m\u001b[0;34m\u001b[0m\u001b[0m\n\u001b[1;32m      4\u001b[0m     \u001b[0;32mfor\u001b[0m \u001b[0mindex\u001b[0m\u001b[0;34m,\u001b[0m \u001b[0melement\u001b[0m \u001b[0;32min\u001b[0m \u001b[0menumerate\u001b[0m\u001b[0;34m(\u001b[0m\u001b[0mA\u001b[0m\u001b[0;34m)\u001b[0m\u001b[0;34m:\u001b[0m\u001b[0;34m\u001b[0m\u001b[0m\n\u001b[0;32m----> 5\u001b[0;31m         \u001b[0;32mif\u001b[0m \u001b[0mcovered_a\u001b[0m\u001b[0;34m[\u001b[0m\u001b[0melement\u001b[0m\u001b[0;34m-\u001b[0m\u001b[0;36m1\u001b[0m\u001b[0;34m]\u001b[0m \u001b[0;34m==\u001b[0m \u001b[0;34m-\u001b[0m\u001b[0;36m1\u001b[0m\u001b[0;34m:\u001b[0m\u001b[0;34m\u001b[0m\u001b[0m\n\u001b[0m\u001b[1;32m      6\u001b[0m             \u001b[0mcovered_a\u001b[0m\u001b[0;34m[\u001b[0m\u001b[0melement\u001b[0m\u001b[0;34m-\u001b[0m\u001b[0;36m1\u001b[0m\u001b[0;34m]\u001b[0m \u001b[0;34m=\u001b[0m \u001b[0melement\u001b[0m\u001b[0;34m\u001b[0m\u001b[0m\n\u001b[1;32m      7\u001b[0m             \u001b[0mcovered\u001b[0m \u001b[0;34m+=\u001b[0m \u001b[0;36m1\u001b[0m\u001b[0;34m\u001b[0m\u001b[0m\n",
      "\u001b[0;31mIndexError\u001b[0m: list index out of range"
     ]
    }
   ],
   "source": [
    "A = [random.randrange(1, 7) for i in range(10)]\n",
    "print(A)\n",
    "print(solution(5, A))"
   ]
  },
  {
   "cell_type": "code",
   "execution_count": 60,
   "metadata": {
    "collapsed": true
   },
   "outputs": [],
   "source": [
    "def solution_3(X, A):\n",
    "    s = set()\n",
    "    for i in range(len(A)):\n",
    "        if A[i] <= X: #Add leaf position if matters\n",
    "             s.add(A[i])\n",
    "        if len(s) == X: #By this time s = {5,4,3,2,1,0}\n",
    "            return i\n",
    "    return -1"
   ]
  },
  {
   "cell_type": "code",
   "execution_count": 63,
   "metadata": {},
   "outputs": [
    {
     "name": "stdout",
     "output_type": "stream",
     "text": [
      "[1, 6, 1, 4, 2, 3, 6, 6, 5, 2]\n",
      "8\n"
     ]
    }
   ],
   "source": [
    "import random\n",
    "A = [random.randrange(1, 7) for i in range(10)]\n",
    "print(A)\n",
    "print(solution_3(5, A))"
   ]
  },
  {
   "cell_type": "code",
   "execution_count": 62,
   "metadata": {
    "collapsed": true
   },
   "outputs": [],
   "source": [
    "def solution(X, A):\n",
    "    s = set()\n",
    "    for i in range(len(A)):\n",
    "        s.add(A[i])\n",
    "        if len(s) == X: #By this time s = {5,4,3,2,1,0}\n",
    "            return i\n",
    "\n",
    "    return -1"
   ]
  },
  {
   "cell_type": "code",
   "execution_count": 59,
   "metadata": {},
   "outputs": [
    {
     "name": "stdout",
     "output_type": "stream",
     "text": [
      "[5, 4, 2, 4, 3, 6, 6, 2, 3, 3]\n"
     ]
    },
    {
     "ename": "Exception",
     "evalue": "('Invalid value', 6)",
     "output_type": "error",
     "traceback": [
      "\u001b[0;31m---------------------------------------------------------------------------\u001b[0m",
      "\u001b[0;31mException\u001b[0m                                 Traceback (most recent call last)",
      "\u001b[0;32m<ipython-input-59-29ebfde48c5d>\u001b[0m in \u001b[0;36m<module>\u001b[0;34m()\u001b[0m\n\u001b[1;32m      1\u001b[0m \u001b[0mA\u001b[0m \u001b[0;34m=\u001b[0m \u001b[0;34m[\u001b[0m\u001b[0mrandom\u001b[0m\u001b[0;34m.\u001b[0m\u001b[0mrandrange\u001b[0m\u001b[0;34m(\u001b[0m\u001b[0;36m1\u001b[0m\u001b[0;34m,\u001b[0m \u001b[0;36m7\u001b[0m\u001b[0;34m)\u001b[0m \u001b[0;32mfor\u001b[0m \u001b[0mi\u001b[0m \u001b[0;32min\u001b[0m \u001b[0mrange\u001b[0m\u001b[0;34m(\u001b[0m\u001b[0;36m10\u001b[0m\u001b[0;34m)\u001b[0m\u001b[0;34m]\u001b[0m\u001b[0;34m\u001b[0m\u001b[0m\n\u001b[1;32m      2\u001b[0m \u001b[0mprint\u001b[0m\u001b[0;34m(\u001b[0m\u001b[0mA\u001b[0m\u001b[0;34m)\u001b[0m\u001b[0;34m\u001b[0m\u001b[0m\n\u001b[0;32m----> 3\u001b[0;31m \u001b[0mprint\u001b[0m\u001b[0;34m(\u001b[0m\u001b[0msolution\u001b[0m\u001b[0;34m(\u001b[0m\u001b[0;36m5\u001b[0m\u001b[0;34m,\u001b[0m \u001b[0mA\u001b[0m\u001b[0;34m)\u001b[0m\u001b[0;34m)\u001b[0m\u001b[0;34m\u001b[0m\u001b[0m\n\u001b[0m",
      "\u001b[0;32m<ipython-input-57-acdd1e2f7f62>\u001b[0m in \u001b[0;36msolution\u001b[0;34m(X, A)\u001b[0m\n\u001b[1;32m      5\u001b[0m     \u001b[0;32mfor\u001b[0m \u001b[0midx\u001b[0m \u001b[0;32min\u001b[0m \u001b[0mrange\u001b[0m\u001b[0;34m(\u001b[0m\u001b[0mlen\u001b[0m\u001b[0;34m(\u001b[0m\u001b[0mA\u001b[0m\u001b[0;34m)\u001b[0m\u001b[0;34m)\u001b[0m\u001b[0;34m:\u001b[0m\u001b[0;34m\u001b[0m\u001b[0m\n\u001b[1;32m      6\u001b[0m         \u001b[0;32mif\u001b[0m \u001b[0mA\u001b[0m\u001b[0;34m[\u001b[0m\u001b[0midx\u001b[0m\u001b[0;34m]\u001b[0m \u001b[0;34m<=\u001b[0m \u001b[0;36m0\u001b[0m \u001b[0;32mor\u001b[0m \u001b[0mA\u001b[0m\u001b[0;34m[\u001b[0m\u001b[0midx\u001b[0m\u001b[0;34m]\u001b[0m \u001b[0;34m>\u001b[0m \u001b[0mX\u001b[0m\u001b[0;34m:\u001b[0m\u001b[0;34m\u001b[0m\u001b[0m\n\u001b[0;32m----> 7\u001b[0;31m             \u001b[0;32mraise\u001b[0m \u001b[0mException\u001b[0m\u001b[0;34m(\u001b[0m\u001b[0;34m\"Invalid value\"\u001b[0m\u001b[0;34m,\u001b[0m \u001b[0mA\u001b[0m\u001b[0;34m[\u001b[0m\u001b[0midx\u001b[0m\u001b[0;34m]\u001b[0m\u001b[0;34m)\u001b[0m\u001b[0;34m\u001b[0m\u001b[0m\n\u001b[0m\u001b[1;32m      8\u001b[0m         \u001b[0;32mif\u001b[0m \u001b[0mpassable\u001b[0m\u001b[0;34m[\u001b[0m\u001b[0mA\u001b[0m\u001b[0;34m[\u001b[0m\u001b[0midx\u001b[0m\u001b[0;34m]\u001b[0m\u001b[0;34m-\u001b[0m\u001b[0;36m1\u001b[0m\u001b[0;34m]\u001b[0m \u001b[0;34m==\u001b[0m \u001b[0;32mFalse\u001b[0m\u001b[0;34m:\u001b[0m\u001b[0;34m\u001b[0m\u001b[0m\n\u001b[1;32m      9\u001b[0m             \u001b[0mpassable\u001b[0m\u001b[0;34m[\u001b[0m\u001b[0mA\u001b[0m\u001b[0;34m[\u001b[0m\u001b[0midx\u001b[0m\u001b[0;34m]\u001b[0m\u001b[0;34m-\u001b[0m\u001b[0;36m1\u001b[0m\u001b[0;34m]\u001b[0m \u001b[0;34m=\u001b[0m \u001b[0;32mTrue\u001b[0m\u001b[0;34m\u001b[0m\u001b[0m\n",
      "\u001b[0;31mException\u001b[0m: ('Invalid value', 6)"
     ]
    }
   ],
   "source": [
    "A = [random.randrange(1, 7) for i in range(10)]\n",
    "print(A)\n",
    "print(solution_3(5, A))"
   ]
  },
  {
   "cell_type": "code",
   "execution_count": null,
   "metadata": {
    "collapsed": true
   },
   "outputs": [],
   "source": []
  }
 ],
 "metadata": {
  "kernelspec": {
   "display_name": "Python 3",
   "language": "python",
   "name": "python3"
  },
  "language_info": {
   "codemirror_mode": {
    "name": "ipython",
    "version": 3
   },
   "file_extension": ".py",
   "mimetype": "text/x-python",
   "name": "python",
   "nbconvert_exporter": "python",
   "pygments_lexer": "ipython3",
   "version": "3.6.1"
  }
 },
 "nbformat": 4,
 "nbformat_minor": 2
}
