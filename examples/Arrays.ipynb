{
 "cells": [
  {
   "cell_type": "markdown",
   "metadata": {},
   "source": [
    "**Problem:** Given array A consisting of N integers, return the reversed array.\n",
    "**Solution:** We can iterate over the first half of the array and exchange the elements with\n",
    "those in the second part of the array."
   ]
  },
  {
   "cell_type": "code",
   "execution_count": 6,
   "metadata": {
    "collapsed": true
   },
   "outputs": [],
   "source": [
    "def reverse(A):\n",
    "    N = len(A)\n",
    "    for i in range(N // 2):\n",
    "        k = N - i - 1\n",
    "        A[i], A[k] = A[k], A[i]\n",
    "    return A"
   ]
  },
  {
   "cell_type": "code",
   "execution_count": 7,
   "metadata": {},
   "outputs": [
    {
     "name": "stdout",
     "output_type": "stream",
     "text": [
      "[67, 35, 14, 64, 47, 28, 8, 57, 97, 87]\n",
      "[87, 97, 57, 8, 28, 47, 64, 14, 35, 67]\n"
     ]
    }
   ],
   "source": [
    "import random\n",
    "A = random.sample(range(0, 100), 10)\n",
    "print(A)\n",
    "print(reverse(A))"
   ]
  },
  {
   "cell_type": "markdown",
   "metadata": {},
   "source": [
    "### CyclicRotation\n",
    "\n",
    "Rotate an array to the right by a given number of steps."
   ]
  },
  {
   "cell_type": "code",
   "execution_count": 15,
   "metadata": {
    "collapsed": true
   },
   "outputs": [],
   "source": [
    "def cyclic_rotation(A, K):\n",
    "    if len(A) == 0:\n",
    "        return A\n",
    "    \n",
    "    K = K % len(A)\n",
    "    return A[-K:] + A[:-K]"
   ]
  },
  {
   "cell_type": "code",
   "execution_count": 22,
   "metadata": {},
   "outputs": [
    {
     "name": "stdout",
     "output_type": "stream",
     "text": [
      "( [94, 61, 5, 97, 89, 65, 45, 32, 41, 80, 95, 56], 15)\n",
      "[80, 95, 56, 94, 61, 5, 97, 89, 65, 45, 32, 41]\n"
     ]
    }
   ],
   "source": [
    "import random\n",
    "A = random.sample(range(0, 100), random.randint(9, 13))\n",
    "K = random.randint(3, 15)\n",
    "print(f\"( {A}, {K})\")\n",
    "print(cyclic_rotation(A, K))"
   ]
  },
  {
   "cell_type": "markdown",
   "metadata": {},
   "source": [
    "### OddOccurrencesInArray\n",
    "\n",
    "Find value that occurs in odd number of elements."
   ]
  },
  {
   "cell_type": "code",
   "execution_count": 25,
   "metadata": {
    "collapsed": true
   },
   "outputs": [],
   "source": [
    "# find element without pair in array\n",
    "def solution(A):\n",
    "    A.sort()\n",
    "    for index in range(0,len(A),2):\n",
    "        if A[index] != A[index+1]:\n",
    "            return A[index]"
   ]
  },
  {
   "cell_type": "code",
   "execution_count": 27,
   "metadata": {},
   "outputs": [
    {
     "name": "stdout",
     "output_type": "stream",
     "text": [
      "[1, 4, 3, 1, 2, 9, 2, 5, 4, 8]\n",
      "3\n"
     ]
    }
   ],
   "source": [
    "import random\n",
    "B = [random.randrange(10) for i in range(10)]\n",
    "print(B)\n",
    "print(solution(B))"
   ]
  },
  {
   "cell_type": "code",
   "execution_count": 28,
   "metadata": {},
   "outputs": [
    {
     "name": "stdout",
     "output_type": "stream",
     "text": [
      "[3, 2, 8, 7, 4, 9, 8, 9, 8, 1]\n",
      "1\n"
     ]
    }
   ],
   "source": [
    "import random\n",
    "B = [random.randrange(10) for i in range(10)]\n",
    "print(B)\n",
    "print(solution(B))"
   ]
  },
  {
   "cell_type": "code",
   "execution_count": 44,
   "metadata": {
    "collapsed": true
   },
   "outputs": [],
   "source": [
    "def solution_A(A):\n",
    "    A.sort()\n",
    "    N = len(A)\n",
    "    i = 0\n",
    "    while i < N:\n",
    "        try:\n",
    "            if A[i] == A[i+1]:\n",
    "                   i += 2\n",
    "            else:\n",
    "                   return A[i]\n",
    "        except:\n",
    "            return A[N-1]\n",
    "    pass"
   ]
  },
  {
   "cell_type": "code",
   "execution_count": 31,
   "metadata": {},
   "outputs": [
    {
     "name": "stdout",
     "output_type": "stream",
     "text": [
      "[7, 5, 0, 1, 1, 5, 1, 2, 1, 2, 8, 6, 7, 4, 7, 9, 2, 6, 0, 8]\n",
      "2\n"
     ]
    }
   ],
   "source": [
    "import random\n",
    "B = [random.randrange(10) for i in range(20)]\n",
    "print(B)\n",
    "print(solution(B))"
   ]
  },
  {
   "cell_type": "code",
   "execution_count": 32,
   "metadata": {},
   "outputs": [
    {
     "name": "stdout",
     "output_type": "stream",
     "text": [
      "[1, 3, 9, 2, 1, 1, 2, 6, 0, 3, 9, 4, 1, 3, 3, 4, 6, 5, 6, 9]\n",
      "0\n"
     ]
    }
   ],
   "source": [
    "import random\n",
    "B = [random.randrange(10) for i in range(20)]\n",
    "print(B)\n",
    "print(solution(B))"
   ]
  },
  {
   "cell_type": "code",
   "execution_count": 50,
   "metadata": {
    "collapsed": true
   },
   "outputs": [],
   "source": [
    "def solution_D(A):\n",
    "    ocurrences = dict()\n",
    "    for n in A:\n",
    "        if ocurrences.get(n):\n",
    "            ocurrences[n] += 1;\n",
    "        else:\n",
    "            ocurrences[n] = 1;\n",
    "    \n",
    "    for n in ocurrences:\n",
    "        if ocurrences[n] % 2 != 0:\n",
    "            return n\n",
    "    pass"
   ]
  },
  {
   "cell_type": "code",
   "execution_count": 51,
   "metadata": {},
   "outputs": [
    {
     "name": "stdout",
     "output_type": "stream",
     "text": [
      "[6, 9, 4, 1, 6, 7, 6, 4, 5, 3, 6, 0, 0, 4, 8, 4, 0, 0, 6, 7]\n",
      "6\n"
     ]
    }
   ],
   "source": [
    "import random\n",
    "B = [random.randrange(10) for i in range(20)]\n",
    "print(B)\n",
    "print(solution_D(B))"
   ]
  },
  {
   "cell_type": "code",
   "execution_count": 47,
   "metadata": {},
   "outputs": [
    {
     "name": "stdout",
     "output_type": "stream",
     "text": [
      "[6, 6, 3, 3, 7, 6, 9, 0, 3, 0, 3, 2, 0, 6, 2, 5, 5, 3, 3, 5]\n",
      "0\n",
      "0\n"
     ]
    }
   ],
   "source": [
    "import random\n",
    "B = [random.randrange(10) for i in range(20)]\n",
    "print(B)\n",
    "print(solution_A(B))\n",
    "print(solution_D(B))"
   ]
  },
  {
   "cell_type": "code",
   "execution_count": 48,
   "metadata": {},
   "outputs": [
    {
     "name": "stdout",
     "output_type": "stream",
     "text": [
      "[8, 4, 0, 5, 7, 1, 6, 0, 7, 6, 2, 9, 3, 9, 5, 3, 4, 4, 6, 5]\n",
      "1\n",
      "1\n"
     ]
    }
   ],
   "source": [
    "import random\n",
    "B = [random.randrange(10) for i in range(20)]\n",
    "print(B)\n",
    "print(solution_A(B))\n",
    "print(solution_D(B))"
   ]
  },
  {
   "cell_type": "code",
   "execution_count": 49,
   "metadata": {},
   "outputs": [
    {
     "name": "stdout",
     "output_type": "stream",
     "text": [
      "[6, 6, 3, 3, 6, 4, 9, 4, 5, 6, 2, 7, 6, 4, 5, 4, 4, 3, 9, 8]\n",
      "2\n",
      "2\n"
     ]
    }
   ],
   "source": [
    "import random\n",
    "B = [random.randrange(10) for i in range(20)]\n",
    "print(B)\n",
    "print(solution_A(B))\n",
    "print(solution_D(B))"
   ]
  },
  {
   "cell_type": "code",
   "execution_count": null,
   "metadata": {
    "collapsed": true
   },
   "outputs": [],
   "source": []
  }
 ],
 "metadata": {
  "kernelspec": {
   "display_name": "Python 3",
   "language": "python",
   "name": "python3"
  },
  "language_info": {
   "codemirror_mode": {
    "name": "ipython",
    "version": 3
   },
   "file_extension": ".py",
   "mimetype": "text/x-python",
   "name": "python",
   "nbconvert_exporter": "python",
   "pygments_lexer": "ipython3",
   "version": "3.6.1"
  }
 },
 "nbformat": 4,
 "nbformat_minor": 2
}
