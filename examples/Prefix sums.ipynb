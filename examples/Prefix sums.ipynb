{
 "cells": [
  {
   "cell_type": "markdown",
   "metadata": {},
   "source": [
    "### Counting prefix sums — O(n)\n",
    "\n",
    "There is a simple yet powerful technique that allows for the fast calculation of sums of\n",
    "elements in given slice (contiguous segments of array). Its main idea uses prefix sums which\n",
    "are defined as the consecutive totals of the first 0, 1, 2, . . . , n elements of an array."
   ]
  },
  {
   "cell_type": "code",
   "execution_count": 4,
   "metadata": {
    "collapsed": true
   },
   "outputs": [],
   "source": [
    "def prefix_sums(A):\n",
    "    n = len(A)\n",
    "    P = [0] * (n + 1)\n",
    "    for i in range(1, n + 1):\n",
    "        P[i] = P[i - 1] + A[i - 1]\n",
    "    return P"
   ]
  },
  {
   "cell_type": "code",
   "execution_count": 5,
   "metadata": {},
   "outputs": [
    {
     "name": "stdout",
     "output_type": "stream",
     "text": [
      "[5, 6, 4, 5, 3, 1, 1, 3, 3, 0]\n",
      "[0, 5, 11, 15, 20, 23, 24, 25, 28, 31, 31]\n"
     ]
    }
   ],
   "source": [
    "import random\n",
    "A = [random.randrange(0, 8) for i in range(10)]\n",
    "print(A)\n",
    "print(prefix_sums(A))"
   ]
  },
  {
   "cell_type": "markdown",
   "metadata": {},
   "source": [
    "### Total of one slice — O(1)"
   ]
  },
  {
   "cell_type": "code",
   "execution_count": 6,
   "metadata": {
    "collapsed": true
   },
   "outputs": [],
   "source": [
    "def count_total(P, x, y):\n",
    "    return P[y + 1] - P[x]"
   ]
  },
  {
   "cell_type": "code",
   "execution_count": 7,
   "metadata": {},
   "outputs": [
    {
     "name": "stdout",
     "output_type": "stream",
     "text": [
      "[1, 5, 3, 5, 3, 6, 5, 4, 5, 3]\n",
      "[0, 1, 6, 9, 14, 17, 23, 28, 32, 37, 40]\n"
     ]
    }
   ],
   "source": [
    "import random\n",
    "A = [random.randrange(0, 8) for i in range(10)]\n",
    "print(A)\n",
    "P = prefix_sums(A)\n",
    "print(P)"
   ]
  },
  {
   "cell_type": "code",
   "execution_count": 11,
   "metadata": {},
   "outputs": [
    {
     "name": "stdout",
     "output_type": "stream",
     "text": [
      "8\n"
     ]
    }
   ],
   "source": [
    "print(count_total(P, 2, 3))"
   ]
  },
  {
   "cell_type": "markdown",
   "metadata": {},
   "source": [
    "### Mushroom picker — O(n + m)"
   ]
  },
  {
   "cell_type": "code",
   "execution_count": 19,
   "metadata": {
    "collapsed": true
   },
   "outputs": [],
   "source": [
    "def mushrooms(A, k, m):\n",
    "    n = len(A)\n",
    "    result = 0\n",
    "    P = prefix_sums(A)\n",
    "    \n",
    "    left_pos = -1\n",
    "    right_pos = -1\n",
    "    \n",
    "    print(P)\n",
    "    \n",
    "    for p in range(min(m, k) + 1):\n",
    "        left_pos_new = k - p\n",
    "        right_pos_new = min(n - 1, max(k, k + m - 2 * p))\n",
    "        result_new = count_total(P, left_pos_new, right_pos_new)\n",
    "        if result_new > result:\n",
    "            left_pos = left_pos_new\n",
    "            right_pos = right_pos_new\n",
    "            result = result_new\n",
    "        \n",
    "    for p in range(min(m + 1, n - k)):\n",
    "        right_pos_new = k + p\n",
    "        left_pos_new = max(0, min(k, k - (m - 2 * p)))\n",
    "        result_new = count_total(P, left_pos_new, right_pos_new)\n",
    "        if result_new > result:\n",
    "            left_pos = left_pos_new\n",
    "            right_pos = right_pos_new\n",
    "            result = result_new\n",
    "        \n",
    "    return result, left_pos, right_pos"
   ]
  },
  {
   "cell_type": "code",
   "execution_count": 26,
   "metadata": {},
   "outputs": [
    {
     "name": "stdout",
     "output_type": "stream",
     "text": [
      "[36, 38, 38, 33, 30, 49, 5, 34, 34, 13]\n",
      "[0, 36, 74, 112, 145, 175, 224, 229, 263, 297, 310]\n",
      "(189, 2, 7)\n"
     ]
    }
   ],
   "source": [
    "import random\n",
    "A = [random.randrange(0, 50) for i in range(10)]\n",
    "print(A)\n",
    "print(mushrooms(A, 7, 5))"
   ]
  },
  {
   "cell_type": "markdown",
   "metadata": {},
   "source": [
    "### CountDiv"
   ]
  },
  {
   "cell_type": "code",
   "execution_count": 35,
   "metadata": {
    "collapsed": true
   },
   "outputs": [],
   "source": [
    "def count_div(A, B, K):\n",
    "    assert B >= A\n",
    "    assert K > 0\n",
    "    return 1 if B == 0 else (B // K - (-1 if A == 0 else (A - 1) // K ))"
   ]
  },
  {
   "cell_type": "code",
   "execution_count": 34,
   "metadata": {},
   "outputs": [
    {
     "data": {
      "text/plain": [
       "21"
      ]
     },
     "execution_count": 34,
     "metadata": {},
     "output_type": "execute_result"
    }
   ],
   "source": [
    "count_div(3, 64, 3)"
   ]
  },
  {
   "cell_type": "code",
   "execution_count": 36,
   "metadata": {
    "collapsed": true
   },
   "outputs": [],
   "source": [
    "import math\n",
    "def count_div_by_floor(A, B, K):\n",
    "    return int((math.floor(B / K) - math.floor((A - 1) / K)))"
   ]
  },
  {
   "cell_type": "code",
   "execution_count": 39,
   "metadata": {},
   "outputs": [
    {
     "data": {
      "text/plain": [
       "20"
      ]
     },
     "execution_count": 39,
     "metadata": {},
     "output_type": "execute_result"
    }
   ],
   "source": [
    "count_div_by_floor(5, 64, 3)"
   ]
  },
  {
   "cell_type": "code",
   "execution_count": 43,
   "metadata": {},
   "outputs": [
    {
     "data": {
      "text/plain": [
       "7"
      ]
     },
     "execution_count": 43,
     "metadata": {},
     "output_type": "execute_result"
    }
   ],
   "source": [
    "count_div_by_floor(5, 63, 8)"
   ]
  },
  {
   "cell_type": "code",
   "execution_count": null,
   "metadata": {
    "collapsed": true
   },
   "outputs": [],
   "source": []
  }
 ],
 "metadata": {
  "kernelspec": {
   "display_name": "Python 3",
   "language": "python",
   "name": "python3"
  },
  "language_info": {
   "codemirror_mode": {
    "name": "ipython",
    "version": 3
   },
   "file_extension": ".py",
   "mimetype": "text/x-python",
   "name": "python",
   "nbconvert_exporter": "python",
   "pygments_lexer": "ipython3",
   "version": "3.6.1"
  }
 },
 "nbformat": 4,
 "nbformat_minor": 2
}
