{
 "cells": [
  {
   "cell_type": "code",
   "execution_count": 1,
   "metadata": {},
   "outputs": [
    {
     "name": "stdout",
     "output_type": "stream",
     "text": [
      "3\n",
      "6\n",
      "1\n"
     ]
    }
   ],
   "source": [
    "import sys\n",
    "print(sys.version_info[0])\n",
    "print(sys.version_info[1])\n",
    "print(sys.version_info[2])"
   ]
  },
  {
   "cell_type": "code",
   "execution_count": 8,
   "metadata": {},
   "outputs": [
    {
     "name": "stdout",
     "output_type": "stream",
     "text": [
      "Requirement already up-to-date: pip in /Users/jefft/anaconda/lib/python3.6/site-packages (10.0.1)\r\n"
     ]
    }
   ],
   "source": [
    "!{sys.executable} -m pip install --upgrade pip"
   ]
  },
  {
   "cell_type": "code",
   "execution_count": null,
   "metadata": {},
   "outputs": [],
   "source": [
    "!{sys.executable} -m pip uninstall pyfortified-cache --yes\n",
    "!{sys.executable} -m pip uninstall pyfortified-dateutil --yes\n",
    "!{sys.executable} -m pip uninstall pyfortified-logging --yes\n",
    "!{sys.executable} -m pip uninstall pyfortified-requests --yes\n",
    "\n",
    "!{sys.executable} -m pip uninstall astropy --yes\n",
    "!{sys.executable} -m pip uninstall matplotlib --yes\n",
    "!{sys.executable} -m pip uninstall mlxtend --yes\n",
    "!{sys.executable} -m pip uninstall numpy --yes\n",
    "!{sys.executable} -m pip uninstall pandas --yes\n",
    "!{sys.executable} -m pip uninstall pprintpp --yes\n",
    "!{sys.executable} -m pip uninstall pydotplus --yes\n",
    "!{sys.executable} -m pip uninstall pytz --yes\n",
    "!{sys.executable} -m pip uninstall pyhttpstatus-utils --yes\n",
    "!{sys.executable} -m pip uninstall pymemcache-client --yes\n",
    "!{sys.executable} -m pip uninstall pymemcache --yes\n",
    "!{sys.executable} -m pip uninstall python-dateutil --yes\n",
    "!{sys.executable} -m pip uninstall requests-mock --yes\n",
    "!{sys.executable} -m pip uninstall requests-toolbelt --yes\n",
    "!{sys.executable} -m pip uninstall requests --yes\n",
    "!{sys.executable} -m pip uninstall safe-cast --yes\n",
    "!{sys.executable} -m pip uninstall scikit-learn --yes\n",
    "!{sys.executable} -m pip uninstall scipy --yes\n",
    "!{sys.executable} -m pip uninstall seaborn --yes\n",
    "!{sys.executable} -m pip uninstall ujson --yes"
   ]
  },
  {
   "cell_type": "code",
   "execution_count": null,
   "metadata": {},
   "outputs": [],
   "source": [
    "!{sys.executable} -m pip install --upgrade astropy\n",
    "!{sys.executable} -m pip install --upgrade matplotlib\n",
    "!{sys.executable} -m pip install --upgrade mlxtend\n",
    "!{sys.executable} -m pip install --upgrade numpy\n",
    "!{sys.executable} -m pip install --upgrade pandas\n",
    "!{sys.executable} -m pip install --upgrade pprintpp\n",
    "!{sys.executable} -m pip install --upgrade pydotplus\n",
    "!{sys.executable} -m pip install --upgrade pytz\n",
    "!{sys.executable} -m pip install --upgrade pyhttpstatus-utils\n",
    "!{sys.executable} -m pip install --upgrade pymemcache-client\n",
    "!{sys.executable} -m pip install --upgrade pymemcache\n",
    "!{sys.executable} -m pip install --upgrade python-dateutil\n",
    "!{sys.executable} -m pip install --upgrade requests-mock\n",
    "!{sys.executable} -m pip install --upgrade requests-toolbelt\n",
    "!{sys.executable} -m pip install --upgrade requests\n",
    "!{sys.executable} -m pip install --upgrade safe-cast\n",
    "!{sys.executable} -m pip install --upgrade scikit-learn\n",
    "!{sys.executable} -m pip install --upgrade scipy\n",
    "!{sys.executable} -m pip install --upgrade seaborn\n",
    "!{sys.executable} -m pip install --upgrade ujson"
   ]
  },
  {
   "cell_type": "code",
   "execution_count": null,
   "metadata": {
    "collapsed": true
   },
   "outputs": [],
   "source": [
    "!{sys.executable} -m pip freeze"
   ]
  },
  {
   "cell_type": "code",
   "execution_count": null,
   "metadata": {
    "collapsed": true
   },
   "outputs": [],
   "source": []
  }
 ],
 "metadata": {
  "kernelspec": {
   "display_name": "Python 3",
   "language": "python",
   "name": "python3"
  },
  "language_info": {
   "codemirror_mode": {
    "name": "ipython",
    "version": 3
   },
   "file_extension": ".py",
   "mimetype": "text/x-python",
   "name": "python",
   "nbconvert_exporter": "python",
   "pygments_lexer": "ipython3",
   "version": "3.6.1"
  }
 },
 "nbformat": 4,
 "nbformat_minor": 2
}
