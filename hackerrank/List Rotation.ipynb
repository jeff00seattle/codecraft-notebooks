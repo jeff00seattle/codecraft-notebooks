{
 "cells": [
  {
   "cell_type": "code",
   "execution_count": 24,
   "metadata": {
    "collapsed": true
   },
   "outputs": [],
   "source": [
    "from copy import copy\n",
    "\n",
    "example_list = [1, 2, 3, 4, 5]"
   ]
  },
  {
   "cell_type": "code",
   "execution_count": 25,
   "metadata": {},
   "outputs": [
    {
     "name": "stdout",
     "output_type": "stream",
     "text": [
      "[3, 4, 5, 1, 2]\n"
     ]
    }
   ],
   "source": [
    "def rotate(l, n):\n",
    "    return l[n:] + l[:n]\n",
    "\n",
    "print(rotate(example_list, 2))"
   ]
  },
  {
   "cell_type": "code",
   "execution_count": 26,
   "metadata": {},
   "outputs": [
    {
     "name": "stdout",
     "output_type": "stream",
     "text": [
      "[3, 4, 5, 1, 2]\n"
     ]
    }
   ],
   "source": [
    "import collections\n",
    "\n",
    "d = collections.deque(example_list)\n",
    "d.rotate(3)\n",
    "\n",
    "print(list(d))"
   ]
  },
  {
   "cell_type": "code",
   "execution_count": 27,
   "metadata": {},
   "outputs": [
    {
     "name": "stdout",
     "output_type": "stream",
     "text": [
      "[5, 1, 2, 3, 4]\n",
      "[4, 5, 1, 2, 3]\n",
      "[3, 4, 5, 1, 2]\n"
     ]
    }
   ],
   "source": [
    "# Program to cyclically rotate an array by one\n",
    "\n",
    "def cyclicRotate(input):\n",
    "      \n",
    "     # slice list in two parts and append\n",
    "     # last element in front of sliced list\n",
    "      \n",
    "     # [input[-1]] --> converts last element pf array into list\n",
    "     # to append in front of sliced list\n",
    " \n",
    "     # input[0:-1] --> list of elements except last element\n",
    "     return [input[-1]] + input[0:-1]\n",
    "    \n",
    "example_list_copy = copy(example_list)\n",
    "\n",
    "example_list_copy = cyclicRotate(example_list_copy)\n",
    "print(example_list_copy)\n",
    "    \n",
    "example_list_copy = cyclicRotate(example_list_copy)\n",
    "print(example_list_copy)   \n",
    "\n",
    "example_list_copy = cyclicRotate(example_list_copy)\n",
    "print(example_list_copy)"
   ]
  },
  {
   "cell_type": "code",
   "execution_count": 29,
   "metadata": {},
   "outputs": [
    {
     "name": "stdout",
     "output_type": "stream",
     "text": [
      "[1, 2, 3, 4, 5]\n",
      "1\n",
      "2\n",
      "5\n",
      "[1]\n",
      "[1, 2, 3, 4]\n"
     ]
    }
   ],
   "source": [
    "example_list_copy = copy(example_list)\n",
    "print(example_list_copy)\n",
    "print(example_list_copy[0])\n",
    "print(example_list_copy[1])\n",
    "print(example_list_copy[-1])\n",
    "print(example_list_copy[0:1])\n",
    "print(example_list_copy[0:-1])"
   ]
  },
  {
   "cell_type": "code",
   "execution_count": null,
   "metadata": {
    "collapsed": true
   },
   "outputs": [],
   "source": []
  }
 ],
 "metadata": {
  "kernelspec": {
   "display_name": "Python 3",
   "language": "python",
   "name": "python3"
  },
  "language_info": {
   "codemirror_mode": {
    "name": "ipython",
    "version": 3
   },
   "file_extension": ".py",
   "mimetype": "text/x-python",
   "name": "python",
   "nbconvert_exporter": "python",
   "pygments_lexer": "ipython3",
   "version": "3.6.1"
  }
 },
 "nbformat": 4,
 "nbformat_minor": 2
}
