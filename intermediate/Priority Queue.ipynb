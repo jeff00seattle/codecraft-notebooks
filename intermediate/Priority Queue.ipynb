{
 "cells": [
  {
   "cell_type": "code",
   "execution_count": 1,
   "metadata": {
    "collapsed": true
   },
   "outputs": [],
   "source": [
    "# this implementation of binary heap takes key value pairs,\n",
    "# we will assume that the keys are all comparable\n",
    "\n",
    "class PriorityQueue:\n",
    "    def __init__(self):\n",
    "        self.heapArray = [(0,0)]\n",
    "        self.currentSize = 0\n",
    "\n",
    "    def buildHeap(self,alist):\n",
    "        self.currentSize = len(alist)\n",
    "        self.heapArray = [(0,0)]\n",
    "        for i in alist:\n",
    "            self.heapArray.append(i)\n",
    "        i = len(alist) // 2            \n",
    "        while (i > 0):\n",
    "            self.percDown(i)\n",
    "            i = i - 1\n",
    "                        \n",
    "    def percDown(self,i):\n",
    "        while (i * 2) <= self.currentSize:\n",
    "            mc = self.minChild(i)\n",
    "            if self.heapArray[i][0] > self.heapArray[mc][0]:\n",
    "                tmp = self.heapArray[i]\n",
    "                self.heapArray[i] = self.heapArray[mc]\n",
    "                self.heapArray[mc] = tmp\n",
    "            i = mc\n",
    "                \n",
    "    def minChild(self,i):\n",
    "        if i*2 > self.currentSize:\n",
    "            return -1\n",
    "        else:\n",
    "            if i*2 + 1 > self.currentSize:\n",
    "                return i*2\n",
    "            else:\n",
    "                if self.heapArray[i*2][0] < self.heapArray[i*2+1][0]:\n",
    "                    return i*2\n",
    "                else:\n",
    "                    return i*2+1\n",
    "\n",
    "    def percUp(self,i):\n",
    "        while i // 2 > 0:\n",
    "            if self.heapArray[i][0] < self.heapArray[i//2][0]:\n",
    "               tmp = self.heapArray[i//2]\n",
    "               self.heapArray[i//2] = self.heapArray[i]\n",
    "               self.heapArray[i] = tmp\n",
    "            i = i//2\n",
    " \n",
    "    def add(self,k):\n",
    "        self.heapArray.append(k)\n",
    "        self.currentSize = self.currentSize + 1\n",
    "        self.percUp(self.currentSize)\n",
    "\n",
    "    def delMin(self):\n",
    "        retval = self.heapArray[1][1]\n",
    "        self.heapArray[1] = self.heapArray[self.currentSize]\n",
    "        self.currentSize = self.currentSize - 1\n",
    "        self.heapArray.pop()\n",
    "        self.percDown(1)\n",
    "        return retval\n",
    "        \n",
    "    def isEmpty(self):\n",
    "        if self.currentSize == 0:\n",
    "            return True\n",
    "        else:\n",
    "            return False\n",
    "\n",
    "    def decreaseKey(self,val,amt):\n",
    "        # this is a little wierd, but we need to find the heap thing to decrease by\n",
    "        # looking at its value\n",
    "        done = False\n",
    "        i = 1\n",
    "        myKey = 0\n",
    "        while not done and i <= self.currentSize:\n",
    "            if self.heapArray[i][1] == val:\n",
    "                done = True\n",
    "                myKey = i\n",
    "            else:\n",
    "                i = i + 1\n",
    "        if myKey > 0:\n",
    "            self.heapArray[myKey] = (amt,self.heapArray[myKey][1])\n",
    "            self.percUp(myKey)\n",
    "            \n",
    "    def __contains__(self,vtx):\n",
    "        for pair in self.heapArray:\n",
    "            if pair[1] == vtx:\n",
    "                return True\n",
    "        return False"
   ]
  },
  {
   "cell_type": "code",
   "execution_count": 2,
   "metadata": {
    "collapsed": true
   },
   "outputs": [],
   "source": [
    "import unittest\n",
    "\n",
    "class TestBinHeap(unittest.TestCase):\n",
    "    def setUp(self):\n",
    "        self.theHeap = PriorityQueue()\n",
    "        self.theHeap.add((2,'x'))\n",
    "        self.theHeap.add((3,'y'))\n",
    "        self.theHeap.add((5,'z'))\n",
    "        self.theHeap.add((6,'a'))\n",
    "        self.theHeap.add((4,'d'))\n",
    "\n",
    "\n",
    "    def testInsert(self):\n",
    "        assert self.theHeap.currentSize == 5\n",
    "\n",
    "    def testDelmin(self):\n",
    "        assert self.theHeap.delMin() == 'x'\n",
    "        assert self.theHeap.delMin() == 'y'\n",
    "    \n",
    "    def testDecKey(self):\n",
    "        self.theHeap.decreaseKey('d',1)\n",
    "        assert self.theHeap.delMin() == 'd'"
   ]
  },
  {
   "cell_type": "code",
   "execution_count": 3,
   "metadata": {},
   "outputs": [
    {
     "name": "stderr",
     "output_type": "stream",
     "text": [
      "...\n",
      "----------------------------------------------------------------------\n",
      "Ran 3 tests in 0.005s\n",
      "\n",
      "OK\n"
     ]
    },
    {
     "data": {
      "text/plain": [
       "<unittest.runner.TextTestResult run=3 errors=0 failures=0>"
      ]
     },
     "execution_count": 3,
     "metadata": {},
     "output_type": "execute_result"
    }
   ],
   "source": [
    "suite = unittest.TestSuite()\n",
    "suite.addTest(TestBinHeap(\"testInsert\"))\n",
    "suite.addTest(TestBinHeap(\"testDelmin\"))\n",
    "suite.addTest(TestBinHeap(\"testDecKey\"))\n",
    "runner = unittest.TextTestRunner()\n",
    "runner.run(suite)"
   ]
  },
  {
   "cell_type": "code",
   "execution_count": null,
   "metadata": {
    "collapsed": true
   },
   "outputs": [],
   "source": []
  }
 ],
 "metadata": {
  "kernelspec": {
   "display_name": "Python 3",
   "language": "python",
   "name": "python3"
  },
  "language_info": {
   "codemirror_mode": {
    "name": "ipython",
    "version": 3
   },
   "file_extension": ".py",
   "mimetype": "text/x-python",
   "name": "python",
   "nbconvert_exporter": "python",
   "pygments_lexer": "ipython3",
   "version": "3.6.1"
  }
 },
 "nbformat": 4,
 "nbformat_minor": 2
}
