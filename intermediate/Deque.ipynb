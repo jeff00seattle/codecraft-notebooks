{
 "cells": [
  {
   "cell_type": "markdown",
   "metadata": {},
   "source": [
    "A **deque**, also known as **a double-ended queue**, is an ordered collection of items similar to the queue. It has two ends, a front and a rear, and the items remain positioned in the collection. What makes a deque different is the unrestrictive nature of adding and removing items. New items can be added at either the front or the rear. Likewise, existing items can be removed from either end. In a sense, this hybrid linear structure provides all the capabilities of stacks and queues in a single data structure. Figure 1 shows a deque of Python data objects."
   ]
  },
  {
   "cell_type": "code",
   "execution_count": 6,
   "metadata": {},
   "outputs": [
    {
     "name": "stdout",
     "output_type": "stream",
     "text": [
      "is empty?: True\n",
      "size: 0\n",
      "size: 1\n",
      "size: 2\n",
      "size: 3\n",
      "is empty?: False\n",
      "size: 4\n",
      "size: 5\n",
      "8.4\n",
      "size: 4\n",
      "True\n",
      "size: 3\n"
     ]
    }
   ],
   "source": [
    "class Deque:\n",
    "    def __init__(self):\n",
    "        self.items = []\n",
    "\n",
    "    def isEmpty(self):\n",
    "        return self.items == []\n",
    "\n",
    "    def addFront(self, item):\n",
    "        self.items.append(item)\n",
    "\n",
    "    def addRear(self, item):\n",
    "        self.items.insert(0,item)\n",
    "\n",
    "    def removeFront(self):\n",
    "        return self.items.pop()\n",
    "\n",
    "    def removeRear(self):\n",
    "        return self.items.pop(0)\n",
    "\n",
    "    def size(self):\n",
    "        return len(self.items)\n",
    "    \n",
    "d=Deque()\n",
    "print(f\"is empty?: {d.isEmpty()}\")\n",
    "print(f\"size: {d.size()}\")\n",
    "d.addRear(4)\n",
    "print(f\"size: {d.size()}\")\n",
    "d.addRear('dog')\n",
    "print(f\"size: {d.size()}\")\n",
    "d.addFront('cat')\n",
    "print(f\"size: {d.size()}\")\n",
    "d.addFront(True)\n",
    "print(f\"is empty?: {d.isEmpty()}\")\n",
    "print(f\"size: {d.size()}\")\n",
    "d.addRear(8.4)\n",
    "print(f\"size: {d.size()}\")\n",
    "print(d.removeRear())\n",
    "print(f\"size: {d.size()}\")\n",
    "print(d.removeFront())\n",
    "print(f\"size: {d.size()}\")\n"
   ]
  },
  {
   "cell_type": "code",
   "execution_count": null,
   "metadata": {
    "collapsed": true
   },
   "outputs": [],
   "source": []
  }
 ],
 "metadata": {
  "kernelspec": {
   "display_name": "Python 3",
   "language": "python",
   "name": "python3"
  },
  "language_info": {
   "codemirror_mode": {
    "name": "ipython",
    "version": 3
   },
   "file_extension": ".py",
   "mimetype": "text/x-python",
   "name": "python",
   "nbconvert_exporter": "python",
   "pygments_lexer": "ipython3",
   "version": "3.6.1"
  }
 },
 "nbformat": 4,
 "nbformat_minor": 2
}
