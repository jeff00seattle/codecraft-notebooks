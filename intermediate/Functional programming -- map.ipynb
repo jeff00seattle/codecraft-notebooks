{
 "cells": [
  {
   "cell_type": "markdown",
   "metadata": {},
   "source": [
    "Python provides several functions which enable a **functional approach** to programming. These functions are all convenience features in that they can be written in Python fairly easily.\n",
    "\n",
    "**Functional programming** is all about **expressions**. We may say that the Functional programming is an **expression oriented programming**.\n",
    "\n",
    "Expression oriented functions of Python provides are:\n",
    "\n",
    "+ map(aFunction, aSequence)\n",
    "+ filter(aFunction, aSequence)\n",
    "+ reduce(aFunction, aSequence)\n",
    "+ lambda\n",
    "+ list comprehension"
   ]
  },
  {
   "cell_type": "markdown",
   "metadata": {},
   "source": [
    "### map\n",
    "\n",
    "One of the common things we do with list and other sequences is applying an operation to each item and collect the result.\n",
    "\n",
    "For example, updating all the items in a list can be done easily with a **for** loop:"
   ]
  },
  {
   "cell_type": "code",
   "execution_count": 4,
   "metadata": {},
   "outputs": [
    {
     "name": "stdout",
     "output_type": "stream",
     "text": [
      "[1, 4, 9, 16, 25]\n"
     ]
    }
   ],
   "source": [
    "items = [1, 2, 3, 4, 5]\n",
    "squared = []\n",
    "for x in items:\n",
    "    squared.append(x ** 2)\n",
    "\n",
    "print(squared)"
   ]
  },
  {
   "cell_type": "markdown",
   "metadata": {},
   "source": [
    "Since this is such a common operation, actually, we have a built-in feature that does most of the work for us.\n",
    "\n",
    "The **map(aFunction, aSequence)** function applies a passed-in function to each item in an iterable object and returns a list containing all the function call results."
   ]
  },
  {
   "cell_type": "code",
   "execution_count": 8,
   "metadata": {},
   "outputs": [
    {
     "name": "stdout",
     "output_type": "stream",
     "text": [
      "[1, 4, 9, 16, 25]\n"
     ]
    }
   ],
   "source": [
    "items = [1, 2, 3, 4, 5]\n",
    "\n",
    "def square(x):\n",
    "    return (x ** 2)\n",
    "\n",
    "squared = list(map(square, items))\n",
    "\n",
    "print(squared)"
   ]
  },
  {
   "cell_type": "markdown",
   "metadata": {},
   "source": [
    "We passed in a user-defined function applied to each item in the list. **map** calls **sqr** on each list item and collects all the return values into a new list.\n",
    "\n",
    "Because **map** expects a function to be passed in, it also happens to be one of the places where **lambda** routinely appears:"
   ]
  },
  {
   "cell_type": "code",
   "execution_count": 7,
   "metadata": {},
   "outputs": [
    {
     "name": "stdout",
     "output_type": "stream",
     "text": [
      "[1, 4, 9, 16, 25]\n"
     ]
    }
   ],
   "source": [
    "items = [1, 2, 3, 4, 5]\n",
    "\n",
    "squared = list(map((lambda x: x ** 2), items))\n",
    "\n",
    "print(squared)"
   ]
  },
  {
   "cell_type": "markdown",
   "metadata": {},
   "source": [
    "In the short example above, the **lambda** function squares each item in the items list."
   ]
  },
  {
   "cell_type": "markdown",
   "metadata": {},
   "source": [
    "As shown earlier, map is defined like this:"
   ]
  },
  {
   "cell_type": "code",
   "execution_count": null,
   "metadata": {
    "collapsed": true
   },
   "outputs": [],
   "source": [
    "map(aFunction, aSequence)"
   ]
  },
  {
   "cell_type": "markdown",
   "metadata": {},
   "source": [
    "While we still use **lamda** as a **aFunction**, we can have a **list of functions** as **aSequence**:"
   ]
  },
  {
   "cell_type": "code",
   "execution_count": 11,
   "metadata": {},
   "outputs": [
    {
     "name": "stdout",
     "output_type": "stream",
     "text": [
      "[1, 1]\n",
      "[4, 8]\n",
      "[9, 27]\n",
      "[16, 64]\n",
      "[25, 125]\n"
     ]
    }
   ],
   "source": [
    "items = [1, 2, 3, 4, 5]\n",
    "\n",
    "def square(x):\n",
    "    return (x ** 2)\n",
    "\n",
    "def cube(x):\n",
    "    return (x ** 3)\n",
    "\n",
    "funcs = [square, cube]\n",
    "for r in items:\n",
    "    value = map(lambda x: x(r), funcs)\n",
    "    print(list(value))"
   ]
  },
  {
   "cell_type": "markdown",
   "metadata": {},
   "source": [
    "Because using **map** is equivalent to **for** loops, with an extra code we can always write a general mapping utility:"
   ]
  },
  {
   "cell_type": "code",
   "execution_count": 13,
   "metadata": {},
   "outputs": [
    {
     "name": "stdout",
     "output_type": "stream",
     "text": [
      "[1, 4, 9, 16, 25]\n",
      "[1, 4, 9, 16, 25]\n"
     ]
    }
   ],
   "source": [
    "items = [1, 2, 3, 4, 5]\n",
    "\n",
    "def mymap(aFunc, aSeq):\n",
    "    result = []\n",
    "    for x in aSeq: \n",
    "        result.append(aFunc(x))\n",
    "    return result\n",
    "\n",
    "def square(x):\n",
    "    return (x ** 2)\n",
    "\n",
    "print(list(map(square, items)))\n",
    "\n",
    "print(mymap(square, items))"
   ]
  },
  {
   "cell_type": "markdown",
   "metadata": {},
   "source": [
    "Since it's a built-in, **map** is always available and always works the same way. It also has some performance benefit because it is usually faster than a manually coded **for**loop. On top of those, **map** can be used in more advance way. For example, given multiple sequence arguments, it sends items taken form sequences in parallel as distinct arguments to the function:"
   ]
  },
  {
   "cell_type": "code",
   "execution_count": 17,
   "metadata": {},
   "outputs": [
    {
     "name": "stdout",
     "output_type": "stream",
     "text": [
      "243\n",
      "1024\n",
      "177147\n",
      "16777216\n",
      "[243, 1024, 177147, 16777216]\n"
     ]
    }
   ],
   "source": [
    "print(pow(3, 5))\n",
    "print(pow(2, 10))\n",
    "print(pow(3, 11))\n",
    "print(pow(4, 12))\n",
    "\n",
    "print(list(map(pow, [3, 2, 3, 4], [5, 10, 11, 12])))"
   ]
  },
  {
   "cell_type": "markdown",
   "metadata": {},
   "source": [
    "As in the example above, with multiple sequences, **map()** expects an N-argument function for N sequences. In the example, **pow** function takes two arguments on each call.\n",
    "\n",
    "Here is another example of map() doing element-wise addition with two lists:"
   ]
  },
  {
   "cell_type": "code",
   "execution_count": 23,
   "metadata": {},
   "outputs": [
    {
     "name": "stdout",
     "output_type": "stream",
     "text": [
      "<class 'map'>\n",
      "[2, 6, 12]\n"
     ]
    }
   ],
   "source": [
    "x = [1,2,3]\n",
    "y = [1,4,9]\n",
    "\n",
    "from operator import add\n",
    "\n",
    "mapr = map(add, x, y)\n",
    "print(type(mapr))\n",
    "print(list(mapr))"
   ]
  },
  {
   "cell_type": "markdown",
   "metadata": {},
   "source": [
    "The **map** call is similar to the **list comprehension expression**. But **map** applies a **function call** to each item instead of an **arbitrary expression**. Because of this limitation, it is somewhat less general tool. In some cases, however, **map** may be faster to run than a list comprehension such as when mapping a built-in function. And **map** requires less coding."
   ]
  },
  {
   "cell_type": "markdown",
   "metadata": {},
   "source": [
    "If **function** is **None**, the identity function is assumed; if there are multiple arguments, map() returns a list consisting of tuples containing the corresponding items from all iterables (a kind of transpose operation). The iterable arguments may be a sequence or any iterable object; the result is always a list:"
   ]
  },
  {
   "cell_type": "code",
   "execution_count": 28,
   "metadata": {},
   "outputs": [
    {
     "name": "stdout",
     "output_type": "stream",
     "text": [
      "1 1\n",
      "2 4\n",
      "3 9\n"
     ]
    }
   ],
   "source": [
    "x = [1,2,3]\n",
    "y = [1,4,9]\n",
    "\n",
    "from itertools import zip_longest\n",
    "\n",
    "for i,j in zip_longest(x, y):\n",
    "    print(i, j)"
   ]
  },
  {
   "cell_type": "markdown",
   "metadata": {},
   "source": [
    "The **zip_longest()** makes an **iterator** that aggregates elements from the **two iterables (x & y)**."
   ]
  }
 ],
 "metadata": {
  "kernelspec": {
   "display_name": "Python 3",
   "language": "python",
   "name": "python3"
  },
  "language_info": {
   "codemirror_mode": {
    "name": "ipython",
    "version": 3
   },
   "file_extension": ".py",
   "mimetype": "text/x-python",
   "name": "python",
   "nbconvert_exporter": "python",
   "pygments_lexer": "ipython3",
   "version": "3.6.1"
  }
 },
 "nbformat": 4,
 "nbformat_minor": 2
}
