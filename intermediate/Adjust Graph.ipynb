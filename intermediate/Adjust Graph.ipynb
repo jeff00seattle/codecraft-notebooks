{
 "cells": [
  {
   "cell_type": "code",
   "execution_count": 1,
   "metadata": {
    "collapsed": true
   },
   "outputs": [],
   "source": [
    "class Graph:\n",
    "    def __init__(self):\n",
    "        self.vertices = {}\n",
    "        self.numVertices = 0\n",
    "        \n",
    "    def addVertex(self,key):\n",
    "        self.numVertices = self.numVertices + 1\n",
    "        newVertex = Vertex(key)\n",
    "        self.vertices[key] = newVertex\n",
    "        return newVertex\n",
    "    \n",
    "    def getVertex(self,n):\n",
    "        if n in self.vertices:\n",
    "            return self.vertices[n]\n",
    "        else:\n",
    "            return None\n",
    "\n",
    "    def __contains__(self,n):\n",
    "        return n in self.vertices\n",
    "    \n",
    "    def addEdge(self,f,t,cost=0):\n",
    "            if f not in self.vertices:\n",
    "                nv = self.addVertex(f)\n",
    "            if t not in self.vertices:\n",
    "                nv = self.addVertex(t)\n",
    "            self.vertices[f].addNeighbor(self.vertices[t],cost)\n",
    "    \n",
    "    def getVertices(self):\n",
    "        return list(self.vertices.keys())\n",
    "        \n",
    "    def __iter__(self):\n",
    "        return iter(self.vertices.values())\n",
    "                "
   ]
  },
  {
   "cell_type": "code",
   "execution_count": 2,
   "metadata": {
    "collapsed": true
   },
   "outputs": [],
   "source": [
    "class Vertex:\n",
    "    def __init__(self,num):\n",
    "        self.id = num\n",
    "        self.connectedTo = {}\n",
    "        self.color = 'white'\n",
    "        self.dist = sys.maxsize\n",
    "        self.pred = None\n",
    "        self.disc = 0\n",
    "        self.fin = 0\n",
    "\n",
    "    # def __lt__(self,o):\n",
    "    #     return self.id < o.id\n",
    "    \n",
    "    def addNeighbor(self,nbr,weight=0):\n",
    "        self.connectedTo[nbr] = weight\n",
    "        \n",
    "    def setColor(self,color):\n",
    "        self.color = color\n",
    "        \n",
    "    def setDistance(self,d):\n",
    "        self.dist = d\n",
    "\n",
    "    def setPred(self,p):\n",
    "        self.pred = p\n",
    "\n",
    "    def setDiscovery(self,dtime):\n",
    "        self.disc = dtime\n",
    "        \n",
    "    def setFinish(self,ftime):\n",
    "        self.fin = ftime\n",
    "        \n",
    "    def getFinish(self):\n",
    "        return self.fin\n",
    "        \n",
    "    def getDiscovery(self):\n",
    "        return self.disc\n",
    "        \n",
    "    def getPred(self):\n",
    "        return self.pred\n",
    "        \n",
    "    def getDistance(self):\n",
    "        return self.dist\n",
    "        \n",
    "    def getColor(self):\n",
    "        return self.color\n",
    "    \n",
    "    def getConnections(self):\n",
    "        return self.connectedTo.keys()\n",
    "        \n",
    "    def getWeight(self,nbr):\n",
    "        return self.connectedTo[nbr]\n",
    "                \n",
    "    def __str__(self):\n",
    "        return str(self.id) + \":color \" + self.color + \":disc \" + str(self.disc) + \":fin \" + str(self.fin) + \":dist \" + str(self.dist) + \":pred \\n\\t[\" + str(self.pred)+ \"]\\n\"\n",
    "    \n",
    "    def getId(self):\n",
    "        return self.id"
   ]
  },
  {
   "cell_type": "code",
   "execution_count": 4,
   "metadata": {},
   "outputs": [],
   "source": [
    "import unittest\n",
    "import sys\n",
    "import os\n",
    "\n",
    "class TestGraph(unittest.TestCase):\n",
    "    def setUp(self):\n",
    "        self.tGraph = Graph()\n",
    "        \n",
    "    def testMakeGraph(self):\n",
    "        gFile = open(\"test.dat\")\n",
    "        for line in gFile:\n",
    "            fVertex, tVertex = line.split('|')\n",
    "            fVertex = int(fVertex)\n",
    "            tVertex = int(tVertex)\n",
    "            self.tGraph.addEdge(fVertex,tVertex)\n",
    "        for i in self.tGraph:\n",
    "            adj = i.getAdj()\n",
    "            for k in adj:\n",
    "                print(i, k)"
   ]
  },
  {
   "cell_type": "code",
   "execution_count": 5,
   "metadata": {},
   "outputs": [
    {
     "name": "stderr",
     "output_type": "stream",
     "text": [
      "E\n",
      "======================================================================\n",
      "ERROR: testMakeGraph (__main__.TestGraph)\n",
      "----------------------------------------------------------------------\n",
      "Traceback (most recent call last):\n",
      "  File \"<ipython-input-4-1fe74f5cb3ff>\", line 8, in testMakeGraph\n",
      "    gFile = open(\"test.dat\")\n",
      "FileNotFoundError: [Errno 2] No such file or directory: 'test.dat'\n",
      "\n",
      "----------------------------------------------------------------------\n",
      "Ran 1 test in 0.002s\n",
      "\n",
      "FAILED (errors=1)\n"
     ]
    },
    {
     "data": {
      "text/plain": [
       "<unittest.runner.TextTestResult run=1 errors=1 failures=0>"
      ]
     },
     "execution_count": 5,
     "metadata": {},
     "output_type": "execute_result"
    }
   ],
   "source": [
    "suite = unittest.TestSuite()\n",
    "suite.addTest(TestGraph(\"testMakeGraph\"))\n",
    "runner = unittest.TextTestRunner()\n",
    "runner.run(suite)"
   ]
  },
  {
   "cell_type": "code",
   "execution_count": null,
   "metadata": {
    "collapsed": true
   },
   "outputs": [],
   "source": []
  }
 ],
 "metadata": {
  "kernelspec": {
   "display_name": "Python 3",
   "language": "python",
   "name": "python3"
  },
  "language_info": {
   "codemirror_mode": {
    "name": "ipython",
    "version": 3
   },
   "file_extension": ".py",
   "mimetype": "text/x-python",
   "name": "python",
   "nbconvert_exporter": "python",
   "pygments_lexer": "ipython3",
   "version": "3.6.1"
  }
 },
 "nbformat": 4,
 "nbformat_minor": 2
}
