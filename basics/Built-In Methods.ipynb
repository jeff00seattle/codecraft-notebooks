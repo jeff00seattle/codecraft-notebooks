{
 "cells": [
  {
   "cell_type": "markdown",
   "metadata": {},
   "source": [
    "###  `any()`\n",
    "\n",
    "The **`any()`** method returns True if any element of an iterable is true. If not, this method returns False.\n",
    "\n",
    "They `any` method takes an iterable (list, string, dictionary etc.) in Python.\n",
    "\n",
    "The `any` method returns:\n",
    "+ `True` if at least one element of an iterable is true\n",
    "+ `False` if all elements are false or if an iterable is empty"
   ]
  },
  {
   "cell_type": "code",
   "execution_count": 11,
   "metadata": {},
   "outputs": [
    {
     "name": "stdout",
     "output_type": "stream",
     "text": [
      "True\n",
      "False\n",
      "True\n",
      "False\n"
     ]
    }
   ],
   "source": [
    "a_list = [1, 3, 4, 0]\n",
    "print(any(a_list))\n",
    "\n",
    "a_list = [0, False]\n",
    "print(any(a_list))\n",
    "\n",
    "a_list = [0, False, 5]\n",
    "print(any(a_list))\n",
    "\n",
    "a_list = []\n",
    "print(any(a_list))"
   ]
  },
  {
   "cell_type": "code",
   "execution_count": 12,
   "metadata": {},
   "outputs": [
    {
     "name": "stdout",
     "output_type": "stream",
     "text": [
      "True\n",
      "False\n",
      "True\n",
      "False\n"
     ]
    }
   ],
   "source": [
    "a_tuple = (1, 3, 4, 0)\n",
    "print(any(a_tuple))\n",
    "\n",
    "a_tuple = (0, False)\n",
    "print(any(a_tuple))\n",
    "\n",
    "a_tuple = (0, False, 5)\n",
    "print(any(a_tuple))\n",
    "\n",
    "a_tuple = ()\n",
    "print(any(a_tuple))"
   ]
  },
  {
   "cell_type": "code",
   "execution_count": 13,
   "metadata": {},
   "outputs": [
    {
     "name": "stdout",
     "output_type": "stream",
     "text": [
      "True\n",
      "True\n",
      "False\n"
     ]
    }
   ],
   "source": [
    "a_str = \"1234\"\n",
    "print(any(a_str))\n",
    "\n",
    "a_str = \" \"\n",
    "print(any(a_str))\n",
    "\n",
    "a_str = \"\"\n",
    "print(any(a_str))"
   ]
  },
  {
   "cell_type": "markdown",
   "metadata": {},
   "source": [
    "###  `abs()`\n",
    "\n",
    "The **`abs()`** method returns the absolute value of the given number. If the number is a complex number, abs() returns its magnitude.\n",
    "\n",
    "The **`abs()`** method takes a single argument:\n",
    "\n",
    "+ num - number whose absolute value is to be returned. The number can be:\n",
    "  + integer\n",
    "  + floating number\n",
    "  + complex number"
   ]
  },
  {
   "cell_type": "code",
   "execution_count": 14,
   "metadata": {},
   "outputs": [
    {
     "name": "stdout",
     "output_type": "stream",
     "text": [
      "Absolute value of -20 is: 20\n",
      "Absolute value of -30.33 is: 30.33\n"
     ]
    }
   ],
   "source": [
    "# random integer\n",
    "integer = -20\n",
    "print('Absolute value of -20 is:', abs(integer))\n",
    "\n",
    "#random floating number\n",
    "floating = -30.33\n",
    "print('Absolute value of -30.33 is:', abs(floating))"
   ]
  },
  {
   "cell_type": "markdown",
   "metadata": {},
   "source": [
    "### `all()`\n",
    "\n",
    "The `all()` method returns True when all elements in the given iterable are true. If not, it returns False.\n",
    "\n",
    "The `all()` method takes a single parameter:\n",
    "+ iterable - any iterable (list, tuple, dictionary, etc.) which contains the elements\n",
    "\n",
    "The `all()` method returns:\n",
    "+ True - If all elements in an iterable are true\n",
    "+ False - If any element in an iterable is false"
   ]
  },
  {
   "cell_type": "code",
   "execution_count": 4,
   "metadata": {},
   "outputs": [
    {
     "name": "stdout",
     "output_type": "stream",
     "text": [
      "True\n",
      "False\n",
      "False\n",
      "False\n",
      "True\n"
     ]
    }
   ],
   "source": [
    "# all values true\n",
    "l = [1, 3, 4, 5]\n",
    "print(all(l))\n",
    "\n",
    "# all values false\n",
    "l = [0, False]\n",
    "print(all(l))\n",
    "\n",
    "# one false value\n",
    "l = [1, 3, 4, 0]\n",
    "print(all(l))\n",
    "\n",
    "# one true value\n",
    "l = [0, False, 5]\n",
    "print(all(l))\n",
    "\n",
    "# empty iterable\n",
    "l = []\n",
    "print(all(l))"
   ]
  },
  {
   "cell_type": "code",
   "execution_count": null,
   "metadata": {
    "collapsed": true
   },
   "outputs": [],
   "source": []
  }
 ],
 "metadata": {
  "kernelspec": {
   "display_name": "Python 3",
   "language": "python",
   "name": "python3"
  },
  "language_info": {
   "codemirror_mode": {
    "name": "ipython",
    "version": 3
   },
   "file_extension": ".py",
   "mimetype": "text/x-python",
   "name": "python",
   "nbconvert_exporter": "python",
   "pygments_lexer": "ipython3",
   "version": "3.6.1"
  }
 },
 "nbformat": 4,
 "nbformat_minor": 2
}
