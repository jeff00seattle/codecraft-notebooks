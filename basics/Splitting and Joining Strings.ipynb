{
 "cells": [
  {
   "cell_type": "markdown",
   "metadata": {},
   "source": [
    "Two of the most useful methods on strings involve lists of strings. The ```split``` method breaks a string into a list of words. By default, any number of whitespace characters is considered a word boundary."
   ]
  },
  {
   "cell_type": "code",
   "execution_count": 1,
   "metadata": {},
   "outputs": [
    {
     "name": "stdout",
     "output_type": "stream",
     "text": [
      "string: The rain in Spain...\n",
      "split string: ['The', 'rain', 'in', 'Spain...']\n"
     ]
    }
   ],
   "source": [
    "song = \"The rain in Spain...\"\n",
    "print(f\"string: {song}\")\n",
    "wds = song.split()\n",
    "print(f\"split string: {wds}\")"
   ]
  },
  {
   "cell_type": "markdown",
   "metadata": {},
   "source": [
    "An optional argument called a delimiter can be used to specify which characters to use as word boundaries. The following example uses the string ai as the delimiter:"
   ]
  },
  {
   "cell_type": "code",
   "execution_count": 2,
   "metadata": {},
   "outputs": [
    {
     "name": "stdout",
     "output_type": "stream",
     "text": [
      "string: The rain in Spain...\n",
      "split string: ['The r', 'n in Sp', 'n...']\n"
     ]
    }
   ],
   "source": [
    "song = \"The rain in Spain...\"\n",
    "print(f\"string: {song}\")\n",
    "wds = song.split('ai')\n",
    "print(f\"split string: {wds}\")"
   ]
  },
  {
   "cell_type": "markdown",
   "metadata": {},
   "source": [
    "Notice that the delimiter doesn’t appear in the result.\n",
    "\n",
    "The inverse of the split method is join. You choose a desired separator string, (often called the glue) and join the list with the glue between each of the elements."
   ]
  },
  {
   "cell_type": "code",
   "execution_count": 10,
   "metadata": {},
   "outputs": [
    {
     "name": "stdout",
     "output_type": "stream",
     "text": [
      "split: ['red', 'blue', 'green']\n",
      "joined ';': red;blue;green\n",
      "joined '***': red***blue***green\n",
      "joined '': redbluegreen\n"
     ]
    }
   ],
   "source": [
    "wds = [\"red\", \"blue\", \"green\"]\n",
    "print(f\"split: {wds}\")\n",
    "glue = ';'\n",
    "s = glue.join(wds)\n",
    "print(f\"joined ';': {s}\")\n",
    "print(f\"joined '***': {'***'.join(wds)}\")\n",
    "print(f\"joined '': {''.join(wds)}\")"
   ]
  },
  {
   "cell_type": "markdown",
   "metadata": {},
   "source": [
    "The list that you glue together (wds in this example) is not modified. Also, you can use empty glue or multi-character strings as glue."
   ]
  }
 ],
 "metadata": {
  "kernelspec": {
   "display_name": "Python 3",
   "language": "python",
   "name": "python3"
  },
  "language_info": {
   "codemirror_mode": {
    "name": "ipython",
    "version": 3
   },
   "file_extension": ".py",
   "mimetype": "text/x-python",
   "name": "python",
   "nbconvert_exporter": "python",
   "pygments_lexer": "ipython3",
   "version": "3.6.1"
  }
 },
 "nbformat": 4,
 "nbformat_minor": 2
}
