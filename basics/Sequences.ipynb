{
 "cells": [
  {
   "cell_type": "markdown",
   "metadata": {},
   "source": [
    "### Exercises"
   ]
  },
  {
   "cell_type": "code",
   "execution_count": 3,
   "metadata": {},
   "outputs": [
    {
     "name": "stdout",
     "output_type": "stream",
     "text": [
      "y\n",
      "g\n",
      "9\n",
      "Myst\n",
      "True\n",
      "True\n",
      "True\n",
      "False\n",
      "False\n"
     ]
    }
   ],
   "source": [
    "print('Python'[1])\n",
    "print(\"Strings are sequences of characters.\"[5])\n",
    "print(len(\"wonderful\"))\n",
    "print('Mystery'[:4])\n",
    "print('p' in 'Pineapple')\n",
    "print('apple' in 'Pineapple')\n",
    "print('pear' not in 'Pineapple')\n",
    "print('apple' > 'pineapple')\n",
    "print('pineapple' < 'Peach')"
   ]
  }
 ],
 "metadata": {
  "kernelspec": {
   "display_name": "Python 3",
   "language": "python",
   "name": "python3"
  },
  "language_info": {
   "codemirror_mode": {
    "name": "ipython",
    "version": 3
   },
   "file_extension": ".py",
   "mimetype": "text/x-python",
   "name": "python",
   "nbconvert_exporter": "python",
   "pygments_lexer": "ipython3",
   "version": "3.6.1"
  }
 },
 "nbformat": 4,
 "nbformat_minor": 2
}
