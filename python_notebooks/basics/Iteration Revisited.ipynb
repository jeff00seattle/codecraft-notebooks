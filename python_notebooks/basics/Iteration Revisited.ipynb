{
 "cells": [
  {
   "cell_type": "markdown",
   "metadata": {},
   "source": [
    "[reference](http://interactivepython.org/runestone/static/pip/MoreAboutIteration/moreiteration.html#newton-s-method)\n",
    "\n",
    "Computers are often used to automate repetitive tasks. Repeating identical or similar tasks without making errors is something that computers do well and people do poorly.\n",
    "\n",
    "Repeated execution of a sequence of statements is called **iteration**. Because iteration is so common, Python provides several language features to make it easier. We’ve already seen the **`for`** statement in a previous chapter. This is a very common form of iteration in Python. In this chapter we are going to look at the **`while`** statement — another way to have your program do iteration."
   ]
  },
  {
   "cell_type": "markdown",
   "metadata": {},
   "source": [
    "### The `for` loop revisited\n",
    "\n",
    "Recall that the **for** loop processes each item in a list. Each item in turn is (re-)assigned to the loop variable, and the body of the loop is executed. We saw this example in an earlier chapter."
   ]
  },
  {
   "cell_type": "code",
   "execution_count": 1,
   "metadata": {},
   "outputs": [
    {
     "name": "stdout",
     "output_type": "stream",
     "text": [
      "Hi Joe Please come to my party on Saturday\n",
      "Hi Amy Please come to my party on Saturday\n",
      "Hi Brad Please come to my party on Saturday\n",
      "Hi Angelina Please come to my party on Saturday\n",
      "Hi Zuki Please come to my party on Saturday\n",
      "Hi Thandi Please come to my party on Saturday\n",
      "Hi Paris Please come to my party on Saturday\n"
     ]
    }
   ],
   "source": [
    "for f in [\"Joe\", \"Amy\", \"Brad\", \"Angelina\", \"Zuki\", \"Thandi\", \"Paris\"]:\n",
    "    print(\"Hi\", f, \"Please come to my party on Saturday\")"
   ]
  },
  {
   "cell_type": "markdown",
   "metadata": {},
   "source": [
    "We have also seen iteration paired with the update idea to form the accumulator pattern. For example, to compute the sum of the first n integers, we could create a for loop using the **range** to produce the numbers 1 thru n. Using the accumulator pattern, we can start with a running total variable initialized to 0 and on each iteration, add the current value of the loop variable. A function to compute this sum is shown below."
   ]
  },
  {
   "cell_type": "code",
   "execution_count": 2,
   "metadata": {},
   "outputs": [
    {
     "name": "stdout",
     "output_type": "stream",
     "text": [
      "10\n",
      "500500\n"
     ]
    }
   ],
   "source": [
    "def sumTo(aBound):\n",
    "    theSum = 0\n",
    "    for aNumber in range(1, aBound+1):\n",
    "        theSum = theSum + aNumber\n",
    "\n",
    "    return theSum\n",
    "\n",
    "print(sumTo(4))\n",
    "\n",
    "print(sumTo(1000))"
   ]
  },
  {
   "cell_type": "markdown",
   "metadata": {},
   "source": [
    "To review, the variable theSum is called the accumulator. It is initialized to zero before we start the loop. The loop variable, aNumber will take on the values produced by the range(1,aBound+1) function call. Note that this produces all the integers from 1 up to the value of aBound. If we had not added 1 to aBound, the range would have stopped one value short since range does not include the upper bound.\n",
    "\n",
    "The assignment statement, theSum = theSum + aNumber, updates theSum each time thru the loop. This accumulates the running total. Finally, we return the value of the accumulator."
   ]
  },
  {
   "cell_type": "markdown",
   "metadata": {},
   "source": [
    "### The `while` Statement\n",
    "\n",
    "There is another Python statement that can also be used to build an iteration. It is called the **while** statement. The while statement provides a much more general mechanism for iterating. Similar to the if statement, it uses a boolean expression to control the flow of execution. The body of while will be repeated as long as the controlling boolean expression evaluates to True.\n",
    "\n",
    "We can use the while loop to create any type of iteration we wish, including anything that we have previously done with a for loop. For example, the program in the previous section could be rewritten using while. Instead of relying on the range function to produce the numbers for our summation, we will need to produce them ourselves. To to this, we will create a variable called aNumber and initialize it to 1, the first number in the summation. Every iteration will add aNumber to the running total until all the values have been used. In order to control the iteration, we must create a boolean expression that evaluates to True as long as we want to keep adding values to our running total. In this case, as long as aNumber is less than or equal to the bound, we should keep going."
   ]
  },
  {
   "cell_type": "code",
   "execution_count": 3,
   "metadata": {},
   "outputs": [
    {
     "name": "stdout",
     "output_type": "stream",
     "text": [
      "10\n",
      "500500\n"
     ]
    }
   ],
   "source": [
    "def sumTo(aBound):\n",
    "    \"\"\" Return the sum of 1+2+3 ... n \"\"\"\n",
    "\n",
    "    theSum  = 0\n",
    "    aNumber = 1\n",
    "    while aNumber <= aBound:\n",
    "        theSum = theSum + aNumber\n",
    "        aNumber = aNumber + 1\n",
    "    return theSum\n",
    "\n",
    "print(sumTo(4))\n",
    "\n",
    "print(sumTo(1000))"
   ]
  },
  {
   "cell_type": "markdown",
   "metadata": {},
   "source": [
    "### The 3n + 1 Sequence\n",
    "\n",
    "As another example of **indefinite iteration**, let’s look at a sequence that has fascinated mathematicians for many years. The rule for creating the sequence is to start from some given number, call it n, and to generate the next term of the sequence from n, either by halving n, whenever n is even, or else by multiplying it by three and adding 1 when it is odd. The sequence terminates when n reaches 1."
   ]
  },
  {
   "cell_type": "code",
   "execution_count": 4,
   "metadata": {},
   "outputs": [
    {
     "name": "stdout",
     "output_type": "stream",
     "text": [
      "3\n",
      "10\n",
      "5\n",
      "16\n",
      "8\n",
      "4\n",
      "2\n",
      "1\n"
     ]
    }
   ],
   "source": [
    "def seq3np1(n):\n",
    "    \"\"\" Print the 3n+1 sequence from n, terminating when it reaches 1.\"\"\"\n",
    "    while n != 1:\n",
    "        print(n)\n",
    "        if n % 2 == 0:        # n is even\n",
    "            n = n // 2\n",
    "        else:                 # n is odd\n",
    "            n = n * 3 + 1\n",
    "    print(n)                  # the last print is 1\n",
    "\n",
    "seq3np1(3)"
   ]
  },
  {
   "cell_type": "markdown",
   "metadata": {},
   "source": [
    "### Choosing between `for` and `while`\n",
    "\n",
    "Use a for loop if you know the maximum number of times that you’ll need to execute the body. For example, if you’re traversing a list of elements, or can formulate a suitable call to range, then choose the for loop.\n",
    "\n",
    "So any problem like “iterate this weather model run for 1000 cycles”, or “search this list of words”, “check all integers up to 10000 to see which are prime” suggest that a for loop is best.\n",
    "\n",
    "By contrast, if you are required to repeat some computation until some condition is met, as we did in this 3n + 1 problem, you will need a while loop.\n",
    "\n",
    "+ **definite iteration** — we have some definite bounds for what is needed. \n",
    "+ **indefinite iteration** — we are not sure how many iterations we will need — we cannot even establish an upper bound."
   ]
  },
  {
   "cell_type": "code",
   "execution_count": null,
   "metadata": {
    "collapsed": true
   },
   "outputs": [],
   "source": []
  }
 ],
 "metadata": {
  "kernelspec": {
   "display_name": "Python 3",
   "language": "python",
   "name": "python3"
  },
  "language_info": {
   "codemirror_mode": {
    "name": "ipython",
    "version": 3
   },
   "file_extension": ".py",
   "mimetype": "text/x-python",
   "name": "python",
   "nbconvert_exporter": "python",
   "pygments_lexer": "ipython3",
   "version": "3.6.1"
  }
 },
 "nbformat": 4,
 "nbformat_minor": 2
}
