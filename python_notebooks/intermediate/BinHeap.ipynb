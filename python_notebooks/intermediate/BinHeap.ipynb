{
 "cells": [
  {
   "cell_type": "code",
   "execution_count": 1,
   "metadata": {
    "collapsed": true
   },
   "outputs": [],
   "source": [
    "# this heap takes key value pairs, we will assume that the keys are integers\n",
    "class BinHeap:\n",
    "    def __init__(self):\n",
    "        self.heapList = [0]\n",
    "        self.currentSize = 0\n",
    "\n",
    "    def buildHeap(self,alist):\n",
    "        i = len(alist) // 2\n",
    "        self.currentSize = len(alist)\n",
    "        self.heapList = [0] + alist[:]\n",
    "        print(len(self.heapList), i)\n",
    "        while (i > 0):\n",
    "            print(self.heapList, i)\n",
    "            self.percDown(i)\n",
    "            i = i - 1\n",
    "        print(self.heapList,i)\n",
    "                        \n",
    "    def percDown(self,i):\n",
    "        while (i * 2) <= self.currentSize:\n",
    "            mc = self.minChild(i)\n",
    "            if self.heapList[i] > self.heapList[mc]:\n",
    "                tmp = self.heapList[i]\n",
    "                self.heapList[i] = self.heapList[mc]\n",
    "                self.heapList[mc] = tmp\n",
    "            i = mc\n",
    "                \n",
    "    def minChild(self,i):\n",
    "        if i * 2 + 1 > self.currentSize:\n",
    "            return i * 2\n",
    "        else:\n",
    "            if self.heapList[i * 2] < self.heapList[i * 2 + 1]:\n",
    "                return i * 2\n",
    "            else:\n",
    "                return i * 2 + 1\n",
    "\n",
    "    def percUp(self,i):\n",
    "        while i // 2 > 0:\n",
    "            if self.heapList[i] < self.heapList[i//2]:\n",
    "               tmp = self.heapList[i // 2]\n",
    "               self.heapList[i // 2] = self.heapList[i]\n",
    "               self.heapList[i] = tmp\n",
    "            i = i // 2\n",
    " \n",
    "    def insert(self,k):\n",
    "        self.heapList.append(k)\n",
    "        self.currentSize = self.currentSize + 1\n",
    "        self.percUp(self.currentSize)\n",
    "\n",
    "    def delMin(self):\n",
    "        retval = self.heapList[1]\n",
    "        self.heapList[1] = self.heapList[self.currentSize]\n",
    "        self.currentSize = self.currentSize - 1\n",
    "        self.heapList.pop()\n",
    "        self.percDown(1)\n",
    "        return retval\n",
    "        \n",
    "    def isEmpty(self):\n",
    "        if currentSize == 0:\n",
    "            return True\n",
    "        else:\n",
    "            return False"
   ]
  },
  {
   "cell_type": "code",
   "execution_count": 2,
   "metadata": {
    "collapsed": true
   },
   "outputs": [],
   "source": [
    "class FooThing:\n",
    "    def __init__(self,x,y):\n",
    "        self.key = x\n",
    "        self.val = y\n",
    "        \n",
    "\n",
    "    def __lt__(self,other):\n",
    "        if self.key < other.key:\n",
    "            return True\n",
    "        else:\n",
    "            return False\n",
    "\n",
    "    def __gt__(self,other):\n",
    "        if self.key > other.key:\n",
    "            return True\n",
    "        else:\n",
    "            return False\n",
    "        \n",
    "    def __hash__(self):\n",
    "        return self.key"
   ]
  },
  {
   "cell_type": "code",
   "execution_count": 3,
   "metadata": {
    "collapsed": true
   },
   "outputs": [],
   "source": [
    "import unittest\n",
    "\n",
    "class TestBinHeap(unittest.TestCase):\n",
    "    def setUp(self):\n",
    "        self.theHeap = BinHeap()\n",
    "        self.theHeap.insert(FooThing(5,'a'))                               \n",
    "        self.theHeap.insert(FooThing(9,'d'))                  \n",
    "        self.theHeap.insert(FooThing(1,'x'))\n",
    "        self.theHeap.insert(FooThing(2,'y'))\n",
    "        self.theHeap.insert(FooThing(3,'z'))\n",
    "\n",
    "    def testInsert(self):\n",
    "        assert self.theHeap.currentSize == 5\n",
    "\n",
    "    def testDelmin(self):\n",
    "        assert self.theHeap.delMin().val == 'x'\n",
    "        assert self.theHeap.delMin().val  == 'y'\n",
    "        assert self.theHeap.delMin().val  == 'z'\n",
    "        assert self.theHeap.delMin().val  == 'a'\n",
    "\n",
    "    def testMixed(self):\n",
    "        myHeap = BinHeap()\n",
    "        myHeap.insert(9)\n",
    "        myHeap.insert(1)\n",
    "        myHeap.insert(5)\n",
    "        assert myHeap.delMin() == 1\n",
    "        myHeap.insert(2)\n",
    "        myHeap.insert(7)\n",
    "        assert myHeap.delMin() == 2\n",
    "        assert myHeap.delMin() == 5\n",
    "\n",
    "    def testDupes(self):\n",
    "        myHeap = BinHeap()\n",
    "        myHeap.insert(9)\n",
    "        myHeap.insert(1)\n",
    "        myHeap.insert(8)\n",
    "        myHeap.insert(1)\n",
    "        assert myHeap.currentSize == 4\n",
    "        assert myHeap.delMin() == 1\n",
    "        assert myHeap.delMin() == 1\n",
    "        assert myHeap.delMin() == 8\n",
    "\n",
    "    def testBuildHeap(self):\n",
    "        myHeap = BinHeap()\n",
    "        myHeap.buildHeap([9,5,6,2,3])\n",
    "        f = myHeap.delMin()\n",
    "        print(\"f = \", f)\n",
    "        assert f == 2\n",
    "        assert myHeap.delMin() == 3\n",
    "        assert myHeap.delMin() == 5\n",
    "        assert myHeap.delMin() == 6\n",
    "        assert myHeap.delMin() == 9\n"
   ]
  },
  {
   "cell_type": "code",
   "execution_count": 4,
   "metadata": {},
   "outputs": [
    {
     "name": "stderr",
     "output_type": "stream",
     "text": [
      "....."
     ]
    },
    {
     "name": "stdout",
     "output_type": "stream",
     "text": [
      "6 2\n",
      "[0, 9, 5, 6, 2, 3] 2\n",
      "[0, 9, 2, 6, 5, 3] 1\n",
      "[0, 2, 3, 6, 5, 9] 0\n",
      "f =  2\n"
     ]
    },
    {
     "name": "stderr",
     "output_type": "stream",
     "text": [
      "\n",
      "----------------------------------------------------------------------\n",
      "Ran 5 tests in 0.011s\n",
      "\n",
      "OK\n"
     ]
    },
    {
     "data": {
      "text/plain": [
       "<unittest.runner.TextTestResult run=5 errors=0 failures=0>"
      ]
     },
     "execution_count": 4,
     "metadata": {},
     "output_type": "execute_result"
    }
   ],
   "source": [
    "suite = unittest.TestSuite()\n",
    "suite.addTest(TestBinHeap(\"testBuildHeap\"))\n",
    "suite.addTest(TestBinHeap(\"testDupes\"))\n",
    "suite.addTest(TestBinHeap(\"testMixed\"))\n",
    "suite.addTest(TestBinHeap(\"testInsert\"))\n",
    "suite.addTest(TestBinHeap(\"testDelmin\"))\n",
    "runner = unittest.TextTestRunner()\n",
    "runner.run(suite)"
   ]
  },
  {
   "cell_type": "code",
   "execution_count": null,
   "metadata": {
    "collapsed": true
   },
   "outputs": [],
   "source": []
  }
 ],
 "metadata": {
  "kernelspec": {
   "display_name": "Python 3",
   "language": "python",
   "name": "python3"
  },
  "language_info": {
   "codemirror_mode": {
    "name": "ipython",
    "version": 3
   },
   "file_extension": ".py",
   "mimetype": "text/x-python",
   "name": "python",
   "nbconvert_exporter": "python",
   "pygments_lexer": "ipython3",
   "version": "3.6.1"
  }
 },
 "nbformat": 4,
 "nbformat_minor": 2
}
