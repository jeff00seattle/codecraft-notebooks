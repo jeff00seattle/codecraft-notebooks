{
 "cells": [
  {
   "cell_type": "markdown",
   "metadata": {},
   "source": [
    "### What is a Circular Queue?\n",
    "A Circular Queue can be seen as an improvement over the Linear Queue because:\n",
    "\n",
    "1. There is no need to reset Head and Tail pointers since they reset themselves. This means that once the Head or Tail reaches the end of the Queue, it resets itself to 0.\n",
    "1. The Tail and Head can point to the same location - this means the Queue is empty\n",
    "1. The Head can be greater than the Tail or vice-versa. This is possible because the Head and Tail pointers are allowed to cross each other."
   ]
  },
  {
   "cell_type": "code",
   "execution_count": 5,
   "metadata": {
    "collapsed": true
   },
   "outputs": [],
   "source": [
    "class CircularQueue:\n",
    "\n",
    "    # Constructor\n",
    "    def __init__(self):\n",
    "        self.queue = list()\n",
    "        self.head = 0\n",
    "        self.tail = 0\n",
    "        self.maxSize = 8\n",
    "\n",
    "    # Adding elements to the queue\n",
    "    def enqueue(self,data):\n",
    "        if self.size() == self.maxSize-1:\n",
    "            return False\n",
    "        self.queue.append(data)\n",
    "        self.tail = (self.tail + 1) % self.maxSize\n",
    "        return True\n",
    "\n",
    "    # Removing elements from the queue\n",
    "    def dequeue(self):\n",
    "        if self.size()==0:\n",
    "            return None \n",
    "        data = self.queue[self.head]\n",
    "        self.head = (self.head + 1) % self.maxSize\n",
    "        return data\n",
    "\n",
    "    # Calculating the size of the queue\n",
    "    def size(self):\n",
    "        if self.tail>=self.head:\n",
    "            return (self.tail-self.head)\n",
    "        return (self.maxSize - (self.head-self.tail))"
   ]
  },
  {
   "cell_type": "code",
   "execution_count": 6,
   "metadata": {},
   "outputs": [
    {
     "name": "stdout",
     "output_type": "stream",
     "text": [
      "True\n",
      "True\n",
      "True\n",
      "True\n",
      "True\n",
      "True\n",
      "True\n",
      "False\n",
      "False\n",
      "1\n",
      "2\n",
      "3\n",
      "4\n",
      "5\n",
      "6\n",
      "7\n",
      "None\n",
      "None\n"
     ]
    }
   ],
   "source": [
    "q = CircularQueue()\n",
    "print(q.enqueue(1))\n",
    "print(q.enqueue(2))\n",
    "print(q.enqueue(3))\n",
    "print(q.enqueue(4))\n",
    "print(q.enqueue(5))\n",
    "print(q.enqueue(6))\n",
    "print(q.enqueue(7))\n",
    "print(q.enqueue(8))\n",
    "print(q.enqueue(9))\n",
    "print(q.dequeue())\n",
    "print(q.dequeue())\n",
    "print(q.dequeue())\n",
    "print(q.dequeue())\n",
    "print(q.dequeue())\n",
    "print(q.dequeue())\n",
    "print(q.dequeue())\n",
    "print(q.dequeue())\n",
    "print(q.dequeue())"
   ]
  },
  {
   "cell_type": "markdown",
   "metadata": {},
   "source": [
    "### Application\n",
    "There are several uses for Circular Queues, such as:\n",
    "\n",
    "+ Computer Architecture (Scheduler)\n",
    "+ Disk drivers\n",
    "+ Video buffering\n",
    "+ Printer job scheduling\n",
    "\n",
    "### Conclusion\n",
    "\n",
    "Circular Queue may appear a little confusing at first but the only way to get the hang of it is to keep practicing. Try out different enqueue and dequeue operations in the animation link provided above to see how it works."
   ]
  }
 ],
 "metadata": {
  "kernelspec": {
   "display_name": "Python 3",
   "language": "python",
   "name": "python3"
  },
  "language_info": {
   "codemirror_mode": {
    "name": "ipython",
    "version": 3
   },
   "file_extension": ".py",
   "mimetype": "text/x-python",
   "name": "python",
   "nbconvert_exporter": "python",
   "pygments_lexer": "ipython3",
   "version": "3.6.1"
  }
 },
 "nbformat": 4,
 "nbformat_minor": 2
}
