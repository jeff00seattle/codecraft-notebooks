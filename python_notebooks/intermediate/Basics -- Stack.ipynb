{
 "cells": [
  {
   "cell_type": "code",
   "execution_count": 4,
   "metadata": {
    "collapsed": true
   },
   "outputs": [],
   "source": [
    "class Stack:\n",
    "    def __init__(self):\n",
    "        self.items = []\n",
    "\n",
    "    def isEmpty(self):\n",
    "        return self.items == []\n",
    "\n",
    "    def push(self, item):\n",
    "        self.items.append(item)\n",
    "\n",
    "    def pop(self):\n",
    "        return self.items.pop() if len(self.items) > 0 else None\n",
    "\n",
    "    def peek(self):\n",
    "        return self.items[len(self.items)-1]\n",
    "\n",
    "    def size(self):\n",
    "        return len(self.items)"
   ]
  },
  {
   "cell_type": "code",
   "execution_count": 5,
   "metadata": {},
   "outputs": [
    {
     "name": "stdout",
     "output_type": "stream",
     "text": [
      "is empty?: True\n",
      "size: 0\n",
      "size: 1\n",
      "is empty?: False\n",
      "size: 2\n",
      "pop: 123\n",
      "size: 1\n",
      "is empty?: False\n",
      "pop: a\n",
      "size: 0\n",
      "is empty?: True\n",
      "pop: None\n"
     ]
    }
   ],
   "source": [
    "s = Stack()\n",
    "\n",
    "print(f\"is empty?: {s.isEmpty()}\")\n",
    "print(f\"size: {s.size()}\")\n",
    "s.push('a')\n",
    "print(f\"size: {s.size()}\")\n",
    "print(f\"is empty?: {s.isEmpty()}\")\n",
    "s.push(123)\n",
    "print(f\"size: {s.size()}\")\n",
    "print(f\"pop: {s.pop()}\")\n",
    "print(f\"size: {s.size()}\")\n",
    "print(f\"is empty?: {s.isEmpty()}\")\n",
    "print(f\"pop: {s.pop()}\")\n",
    "print(f\"size: {s.size()}\")\n",
    "print(f\"is empty?: {s.isEmpty()}\")\n",
    "print(f\"pop: {s.pop()}\")"
   ]
  },
  {
   "cell_type": "code",
   "execution_count": null,
   "metadata": {
    "collapsed": true
   },
   "outputs": [],
   "source": []
  }
 ],
 "metadata": {
  "kernelspec": {
   "display_name": "Python 3",
   "language": "python",
   "name": "python3"
  },
  "language_info": {
   "codemirror_mode": {
    "name": "ipython",
    "version": 3
   },
   "file_extension": ".py",
   "mimetype": "text/x-python",
   "name": "python",
   "nbconvert_exporter": "python",
   "pygments_lexer": "ipython3",
   "version": "3.6.1"
  }
 },
 "nbformat": 4,
 "nbformat_minor": 2
}
